{
 "cells": [
  {
   "cell_type": "markdown",
   "metadata": {
    "application/vnd.databricks.v1+cell": {
     "cellMetadata": {},
     "inputWidgets": {},
     "nuid": "c0a44e38-1a76-4910-9880-58798f9afcdb",
     "showTitle": false,
     "title": ""
    }
   },
   "source": [
    "## SLS Engine (Smart Location Search Engine)\n",
    "\n",
    "*The SLS Engine (Smart Location Search Engine) is a sophisticated and advanced search engine designed specifically for finding places. It utilizes intelligent algorithms and data processing techniques to provide accurate and relevant results based on user queries.*\n",
    "\n",
    "Here are some key features and characteristics of the SLS Engine:\n",
    "\n",
    "- Intelligent Algorithm: The engine incorporates an intelligent algorithm that takes into account various factors such as location, user preferences, ratings, popularity, and other relevant data to deliver highly targeted search results.\n",
    "\n",
    "- Geolocation Capabilities: The SLS Engine leverages geolocation data to identify the user's current location or any specified location, enabling more precise and personalized search results.\n",
    "\n",
    "- Comprehensive Database: It maintains a comprehensive and up-to-date database of places, including restaurants, hotels, attractions, businesses, landmarks, and more. This ensures that users have access to a wide range of options when searching for places.\n",
    "\n",
    "- Detailed Information: The engine provides detailed information about each place, including address, contact details, user ratings and reviews, photos, opening hours, and any additional relevant information to help users make informed decisions.\n",
    "\n",
    "- Advanced Filtering Options: The SLS Engine offers advanced filtering options, allowing users to refine their search results based on specific criteria such as price range, cuisine type, amenities, ratings, and more.\n",
    "\n",
    "- Predictive Search Suggestions: It incorporates predictive search suggestions, offering users real-time suggestions as they type their search queries, making the search process more efficient and seamless.\n",
    "\n",
    "**Overall, the SLS Engine is a powerful and intelligent search tool that simplifies the process of finding places by providing accurate, personalized, and relevant results based on user preferences and location.**"
   ]
  },
  {
   "cell_type": "markdown",
   "metadata": {
    "application/vnd.databricks.v1+cell": {
     "cellMetadata": {
      "byteLimit": 2048000,
      "rowLimit": 10000
     },
     "inputWidgets": {},
     "nuid": "1b36bbda-044b-4f49-a1c1-9d59600af10f",
     "showTitle": false,
     "title": ""
    }
   },
   "source": [
    "Steps considered as part of the implementation:\n",
    "\n",
    "- Importing shared FourSquare data from the Databricks Market Place.\n",
    "- Creating a schema in our Unity Catalog.\n",
    "- Creating a FourSquare Data table in our Own catalog based on the previous step.\n",
    "- Transforming the imported columns from the given dataset.\n",
    "- Creating a Vector Endpoint.\n",
    "- Creating the final content column with attributes relevant to the search engine.\n",
    "- Creating a Vector Index column from Step 6.\n",
    "- Integrate a Text bot to generate smart results based on the implemented search engine."
   ]
  },
  {
   "cell_type": "code",
   "execution_count": 0,
   "metadata": {
    "application/vnd.databricks.v1+cell": {
     "cellMetadata": {},
     "inputWidgets": {},
     "nuid": "e6df15f2-6b03-4bcf-9f72-75ed9b0584f2",
     "showTitle": false,
     "title": ""
    }
   },
   "outputs": [],
   "source": [
    "%sql\n",
    "create table workspace.default.places_us_nyc\n",
    "as\n",
    "select * from foursquare_places_free_new_york_city_sample;"
   ]
  },
  {
   "cell_type": "code",
   "execution_count": 0,
   "metadata": {
    "application/vnd.databricks.v1+cell": {
     "cellMetadata": {
      "byteLimit": 2048000,
      "implicitDf": true,
      "rowLimit": 10000
     },
     "inputWidgets": {},
     "nuid": "b587c208-5326-455d-8dd3-82577745dd57",
     "showTitle": false,
     "title": ""
    }
   },
   "outputs": [
    {
     "output_type": "display_data",
     "data": {
      "text/html": [
       "<style scoped>\n",
       "  .table-result-container {\n",
       "    max-height: 300px;\n",
       "    overflow: auto;\n",
       "  }\n",
       "  table, th, td {\n",
       "    border: 1px solid black;\n",
       "    border-collapse: collapse;\n",
       "  }\n",
       "  th, td {\n",
       "    padding: 5px;\n",
       "  }\n",
       "  th {\n",
       "    text-align: left;\n",
       "  }\n",
       "</style><div class='table-result-container'><table class='table-result'><thead style='background-color: white'><tr><th>fsq_id</th><th>name</th><th>name_translated</th><th>latitude</th><th>longitude</th><th>geocodes</th><th>address</th><th>address_extended</th><th>locality</th><th>dma</th><th>region</th><th>postcode</th><th>country</th><th>admin_region</th><th>post_town</th><th>neighborhood</th><th>po_box</th><th>date_created</th><th>date_refreshed</th><th>fsq_category_ids</th><th>fsq_category_labels</th><th>fsq_chain_id</th><th>fsq_chain_name</th><th>parent_id</th><th>subvenue_count</th><th>hours</th><th>hours_popular</th><th>hours_display</th><th>tel</th><th>website</th><th>fax</th><th>email</th><th>facebook_id</th><th>instagram</th><th>twitter</th><th>description</th><th>rating</th><th>price</th><th>total_tips</th><th>tips</th><th>tastes</th><th>total_photos</th><th>photos</th><th>popularity</th><th>venue_reality_bucket</th><th>provenance_rating</th><th>date_closed</th><th>closed_bucket</th><th>atm</th><th>beer</th><th>barservice</th><th>businessmeeting</th><th>byo</th><th>clean</th><th>coatcheck</th><th>cocktails</th><th>crowded</th><th>datespopular</th><th>delivery</th><th>dressy</th><th>drivethrough</th><th>essentialreservations</th><th>familiespopular</th><th>fullbar</th><th>glutenfreediet</th><th>goodfordogs</th><th>groupsonlyreservations</th><th>groupspopular</th><th>hasmusic</th><th>hasparking</th><th>healthydiet</th><th>jukeboxmusic</th><th>latenight</th><th>livemusic</th><th>noisy</th><th>onlinereservations</th><th>outdoorseating</th><th>privatelot</th><th>privateroom</th><th>publiclot</th><th>quickbite</th><th>reservations</th><th>restroom</th><th>romantic</th><th>servesbarsnacks</th><th>servesbreakfast</th><th>servesbrunch</th><th>servesdessert</th><th>servesdinner</th><th>serveshappyhour</th><th>serveslunch</th><th>servestastingmenu</th><th>servicequality</th><th>singlespopular</th><th>sitdowndining</th><th>smoking</th><th>store_id</th><th>specialoccasion</th><th>streetparking</th><th>takeout</th><th>takesamex</th><th>takescreditcards</th><th>takesdinersclub</th><th>takesdiscover</th><th>takesmastercard</th><th>takesnfc</th><th>takesunionpay</th><th>takesvisa</th><th>trendy</th><th>tvs</th><th>valetparking</th><th>valueformoney</th><th>vegandiet</th><th>vegetariandiet</th><th>wheelchairaccessible</th><th>wifi</th><th>wine</th><th>census_block_id</th></tr></thead><tbody><tr><td>23dbd876e604430510e9f69d</td><td>Bilkent University</td><td>null</td><td>40.748328</td><td>-73.984879</td><td>Map(main -> Map(longitude -> -73.984879, latitude -> 40.748328), roof -> Map(longitude -> -73.984879, latitude -> 40.748328))</td><td>350 5th Ave</td><td>null</td><td>New York</td><td>New York</td><td>NY</td><td>10118</td><td>us</td><td>null</td><td>null</td><td>List(East Side, Flatiron, Flatiron District, Garment District, Koreatown, Midtown, Midtown South, Midtown West, Murray Hill)</td><td>null</td><td>2012-05-21</td><td>2022-10-16</td><td>List(12013)</td><td>List(List(Community and Government, Education, College and University))</td><td>null</td><td>null</td><td>null</td><td>null</td><td>null</td><td>null</td><td>null</td><td>(212) 564-0175</td><td>http://www.bsa-gnyc.org</td><td>null</td><td>rpetrillo@bsa-gnyc.org</td><td>null</td><td>null</td><td>null</td><td>null</td><td>null</td><td>null</td><td>null</td><td>null</td><td>null</td><td>null</td><td>null</td><td>0.18</td><td>High</td><td>4</td><td>null</td><td>Unsure</td><td>null</td><td>null</td><td>null</td><td>null</td><td>null</td><td>null</td><td>null</td><td>null</td><td>null</td><td>null</td><td>null</td><td>null</td><td>null</td><td>null</td><td>null</td><td>null</td><td>null</td><td>null</td><td>null</td><td>null</td><td>null</td><td>null</td><td>null</td><td>null</td><td>null</td><td>null</td><td>null</td><td>null</td><td>null</td><td>null</td><td>null</td><td>null</td><td>null</td><td>null</td><td>null</td><td>null</td><td>null</td><td>null</td><td>null</td><td>null</td><td>null</td><td>null</td><td>null</td><td>null</td><td>null</td><td>null</td><td>null</td><td>null</td><td>null</td><td>null</td><td>null</td><td>null</td><td>null</td><td>null</td><td>null</td><td>null</td><td>null</td><td>null</td><td>null</td><td>null</td><td>null</td><td>null</td><td>null</td><td>null</td><td>null</td><td>null</td><td>null</td><td>null</td><td>null</td><td>360610076001001</td></tr><tr><td>4a22d7f9f964a520977d1fe3</td><td>Sant Ambroeus</td><td>null</td><td>40.775413</td><td>-73.962997</td><td>Map(main -> Map(longitude -> -73.962997, latitude -> 40.775413), roof -> Map(longitude -> -73.962997, latitude -> 40.775413))</td><td>1000 Madison Ave</td><td>btwn 77th  78th St.</td><td>New York</td><td>null</td><td>NY</td><td>10075</td><td>us</td><td>null</td><td>null</td><td>List(Upper East Side, Uptown)</td><td>null</td><td>2009-05-31</td><td>2023-05-16</td><td>List(13236)</td><td>List(List(Dining and Drinking, Restaurant, Italian Restaurant))</td><td>null</td><td>null</td><td>null</td><td>null</td><td>Map(sunday -> List(List(8:00, 22:00)), tuesday -> List(List(8:00, 22:00)), wednesday -> List(List(8:00, 22:00)), monday -> List(List(8:00, 22:00)), friday -> List(List(8:00, 22:00)), thursday -> List(List(8:00, 22:00)), saturday -> List(List(8:00, 22:00)))</td><td>Map(sunday -> List(List(10:00, 19:00)), tuesday -> List(List(9:00, 11:00), List(13:00, 17:00), List(19:00, 20:00)), wednesday -> List(List(9:00, 19:00)), monday -> List(List(9:00, 18:00)), friday -> List(List(9:00, 18:00), List(21:00, 22:00)), thursday -> List(List(9:00, 18:00)), saturday -> List(List(9:00, 20:00)))</td><td>Open Daily 8:00 AM-10:00 PM</td><td>(212) 570-2211</td><td>http://www.santambroeus.com</td><td>(212) 570-2214</td><td>media@santambroeus.com</td><td>179539995429661</td><td>null</td><td>sant_ambroeus</td><td>null</td><td>8.78</td><td>VeryExpensive</td><td>90</td><td>List(List(542c18c5498ead7dbea9041a, Lovely ambience. The coffee was good- more like a light Italian roast. We had a Napoleon and a custard and fruit tart, both of which were really pretty to look at and tasted amazing!), List(4e7cff04a17c03c4fc905526, Great ambiance and amazing staff.  You can stop in for a delicious coffee or Gelato or have a posh meal – the Crab Salad is delicious as are ALL of the desserts.), List(515c7029e4b00a81e2c2b86f, Amazing sea food risotto, better if u also order a glass of chardonnay!), List(4ee785bf29c220f974920288, A slice of Italy on Madison Ave, come here for your sweet tooth fix.  Try the Sant Ambroeus - chocolate mousse cake with a chocolate custard center.), List(4eb0560a108157d9cf60c518, If you’re looking for a place to sit down and enjoy just a cup of coffee and dessert, come here.  The Salted-Almond Tart will satisfy your craving for a salty/sweet treat.), List(55074217498e5d7e5e26563d, The espresso with thick hot chocolate! So good!), List(51db14c9498e203a17610dab, Expensive but good.), List(5b70b5fd3af988002c820cc8, Nice hot and cold coffee mixes. The green tea matcha latte with ice tastes delicious! Its expensive but worth a try. Cakes and pastries are good, although for cakes better go to Lady M.), List(4c8e5433daa93704dcb14bb1, Best berry brioche), List(57848601498ea4d68e24d278, The lasagna is to die for, the best I've eaten in a while. Profiteroles are delicious and great quality gelatos!), List(555fded1498eb9571a849b34, المكان جميل جدا ..الكوكيز لذيذة ..الخدمة ممتازة ..), List(4df968c18877b30c3984f1b2, Whoever put the eiffel tower as sant ambreous' icon should be ashamed), List(54308ac2498e7380bf181fbf, The desserts are awesome however the meals themselves do seem a bit overpriced. Quiet atmosphere though for a business meeting.), List(59062e2535dfa763d5edf6ac, Ótimas opções de café e sanduíches !), List(4f2ade43e4b012389a815371, Gossip Girl: Serena reminisces with cousin Charlie (Episode: 418)), List(5c37cdbc92e7a9002ca46e4d, Buenísima la Milanesa de ternera !!!  Mmmm), List(510529aee4b04ee8ad0ae458, Excellent pastries and espresso!...Also close to our 980 Madison Avenue Gallery!), List(58bc6471a37d722751e12018, Amaaaaaazing lasagna      ), List(541f683e498e9f1c1102c53e, Service sometimes snooty and food is overpriced, but a good meeting place especially for coffee on weekends.), List(55d2ae2a498e2c918a786efd, The food was great. I recommend the signature chocolate cake   ), List(550d78c4498e6ec941647121, Pasta, cappuccinos), List(577056ff498e8cbf5d2c527c,   disappointing. Iced coffee tasted burnt and a large (L) bottle of pellegrino was 9.50. Cute interior but not worth the price), List(5071cbf3e4b0339d316d8a13, Don't miss the hot chocolate! Amazing!!!), List(55edb91b498edaf32ef6e48f, In the summer gelato. A must. The rest of the year :) desserts , cookies , brunch, lunch just go :) trust me you'll love it), List(53ee5d32498e00c9649062cc, Expensive but good chocolate chip gelato and espresso.))</td><td>List(gelato, coffee, espresso, desserts, chocolate mousse cake, mousse cake, cappuccinos, espresso drinks, Italian food, pastries, French, cake, café, French pastries, chocolate cake, chocolate mousse, paninis, French food, tarts, brioche, seafood, sandwiches, people watching, lasagna, fancy)</td><td>337</td><td>List(https://ir.4sqi.net/img/general/original/3082214_1pyLrT2PB-c_Oj-uqYL0hjActSyJePeTasabh7CtfvQ.jpg, https://ir.4sqi.net/img/general/original/12677300_IUvSlNBBDxgDSLdCvwWGcltMF3Kwe0mpl8cp2GE936I.jpg, https://ir.4sqi.net/img/general/original/54114818_xOxjrjgboFlq7EZ-vqLx0j2t8QXLhPXHRKIivpKB2GE.jpg, https://ir.4sqi.net/img/general/original/21780501_WjixSr1t--qxyl9Y9d8lX0GI7unth21LjY2h0HirvdY.jpg, https://ir.4sqi.net/img/general/original/NRVa-epTrfV0opf-b3C3p4j9eWniC1wSElHSZ4umUss.jpg, https://ir.4sqi.net/img/general/original/12014730_MAvk7O_GosM6gQh7_-KtlvM6YKnhbyr4DHn7WHZTJyM.jpg, https://ir.4sqi.net/img/general/original/850409_tAYQAcMh3KzfnR1s2C_cYWmRNllwmxcUDr5WOPlkJu8.jpg, https://ir.4sqi.net/img/general/original/kM_v4RcTfJAA446DmJdwnYlot3umODHuTGu2uBDPMrs.jpg, https://ir.4sqi.net/img/general/original/24079145_uP4cp13NdOsA1zDyeFTSZnefkoxXtzKZ1zraMnfH4wo.jpg, https://ir.4sqi.net/img/general/original/26971685_SLiLZI5nQeM8-4PrnTM_9Yq9F3Kbx2uCwBCq31xpyKI.jpg, https://ir.4sqi.net/img/general/original/5698670_dyfk5JAASxscDVq-AvT0eX_pCMVf-48Xg_7E2enLk6k.jpg, https://ir.4sqi.net/img/general/original/8JDa_CSNS21vIpNzOb0GVLilNBzlX9pfpspFfhvboF8.jpg, https://ir.4sqi.net/img/general/original/0AGkKS5J2KsxfMgwLPYXg4-XW2UJ8U1N3Gdbxp67U4Y.jpg, https://ir.4sqi.net/img/general/original/Npzvmi9ZPB30dFIX6pbTv4hz-My0Z1T6Lylw2CaNrAw.jpg, https://ir.4sqi.net/img/general/original/41568639_B736p1S4jAyYp0i_NzKniOQ5Wx_bpH4TXWQHQTxVUzE.jpg, https://ir.4sqi.net/img/general/original/1374516_4k9AciBQalbMsCdzgnTY8J_9opHD0M0xEuVWGqeoXk4.jpg, https://ir.4sqi.net/img/general/original/1309576_gTeu0hfN9ynPSaD1txpNE-SE6i5MTrWtsX7qdkzrNow.jpg, https://ir.4sqi.net/img/general/original/21331322_3-yPWdFI9hxyZLdTzpr2HL3u9uDLP_RZr_jxwcjh4-M.jpg, https://ir.4sqi.net/img/general/original/18267129_hw6sjZX7pCTKf1dO9IKGLFDwSP0dRx01ynIwom2LnTY.jpg, https://ir.4sqi.net/img/general/original/5545510_FKAu8uue_6iPGZ5G9e8VY_d8tIMS8YZftaxRv7Ch7FM.jpg, https://ir.4sqi.net/img/general/original/1309576_YztDvjyIkM8Pe1-5XBt2g8mzn7vBC_L8VRRwsi9J3Cw.jpg, https://ir.4sqi.net/img/general/original/4023487_-jQ2cIRnLhWZ6y4vDxS7xW2TogsVnTphlJnk-AGMsyU.jpg, https://ir.4sqi.net/img/general/original/NHrhbFS2TkyWmNNaDcNLuwfjlxfnWiIV_vCAwftGHZU.jpg, https://ir.4sqi.net/img/general/original/95423_rxa0Ceme4ysBX8otYxnjsWsWwSIAXE8WcR_7ADYeb84.jpg, https://ir.4sqi.net/img/general/original/286574_0delhVyi9PzOHhmjCQHm6W6Xv0NZt8DhozktKOu6rAM.jpg)</td><td>0.64</td><td>VeryHigh</td><td>1</td><td>null</td><td>LikelyOpen</td><td>null</td><td>null</td><td>null</td><td>Great</td><td>null</td><td>Great</td><td>null</td><td>true</td><td>Great</td><td>Great</td><td>false</td><td>null</td><td>null</td><td>null</td><td>Average</td><td>true</td><td>null</td><td>null</td><td>null</td><td>Average</td><td>null</td><td>null</td><td>null</td><td>null</td><td>Average</td><td>false</td><td>Average</td><td>true</td><td>false</td><td>null</td><td>null</td><td>null</td><td>Great</td><td>true</td><td>null</td><td>Average</td><td>null</td><td>true</td><td>true</td><td>true</td><td>true</td><td>true</td><td>true</td><td>null</td><td>Great</td><td>null</td><td>null</td><td>null</td><td>null</td><td>Great</td><td>null</td><td>null</td><td>true</td><td>true</td><td>null</td><td>true</td><td>true</td><td>null</td><td>null</td><td>true</td><td>Great</td><td>null</td><td>null</td><td>Great</td><td>null</td><td>null</td><td>null</td><td>n</td><td>true</td><td>360610142004002</td></tr><tr><td>4da2442cb521224b289c06ee</td><td>Cascina Ristorante</td><td>null</td><td>40.718958</td><td>-73.997697</td><td>Map(main -> Map(longitude -> -73.997697, latitude -> 40.718958), roof -> Map(longitude -> -73.997697, latitude -> 40.718958))</td><td>Greenwich Village</td><td>null</td><td>New York</td><td>New York</td><td>NY</td><td>10014</td><td>us</td><td>null</td><td>null</td><td>List(Chinatown, Downtown, Little Italy, Lower Manhattan, Nolita, Soho)</td><td>null</td><td>2011-04-10</td><td>2022-10-15</td><td>List(13236)</td><td>List(List(Dining and Drinking, Restaurant, Italian Restaurant))</td><td>null</td><td>null</td><td>null</td><td>null</td><td>null</td><td>Map(sunday -> List(List(12:00, 13:00), List(15:00, 23:00)), tuesday -> List(List(20:00, 22:00)), wednesday -> List(List(12:00, 13:00), List(20:00, 22:00)), monday -> List(List(16:00, 17:00), List(19:00, 21:00)), friday -> List(List(13:00, 16:00), List(19:00, 22:00)), thursday -> List(List(15:00, 16:00), List(18:00, 22:00)), saturday -> List(List(13:00, 14:00), List(17:00, 24:00)))</td><td>null</td><td>null</td><td>null</td><td>null</td><td>null</td><td>null</td><td>null</td><td>null</td><td>null</td><td>null</td><td>Moderate</td><td>3</td><td>List(List(4ededcfbf79009df3179c10b, This place is no good! I ordered cheese ravioli and they tries to pass off lobster ravioli as cheese. Thank god I'm not allergic to shellfish!), List(4f96dfdde4b07ffbb263e403, They Over Charge and Add a 20% tip on check we were only 4 people.), List(4f21d377e4b0020c2c164dcc, They have great service. The staff is nice, but the menu is limited. There's a piano that they let you play.))</td><td>List(Italian food, staff)</td><td>3</td><td>List(https://ir.4sqi.net/img/general/original/1866845_6Wf_aOdk542RO9nf3by5hx2xGmZE67_HDuzxZV-MtFA.jpg, https://ir.4sqi.net/img/general/original/9lZkoir6WdUBXP51UccGon0huIolYX0dTV2c59j-h-Q.jpg, https://ir.4sqi.net/img/general/original/UAsPXn8sGZezGa9Jz7us0YjN1Si2lkEOxPTvhciQUOQ.jpg)</td><td>0.5067621647958821</td><td>High</td><td>3</td><td>null</td><td>Unsure</td><td>null</td><td>null</td><td>null</td><td>null</td><td>null</td><td>null</td><td>null</td><td>null</td><td>null</td><td>null</td><td>null</td><td>null</td><td>null</td><td>null</td><td>null</td><td>null</td><td>null</td><td>null</td><td>null</td><td>null</td><td>null</td><td>null</td><td>null</td><td>null</td><td>null</td><td>null</td><td>null</td><td>null</td><td>null</td><td>null</td><td>null</td><td>null</td><td>null</td><td>null</td><td>null</td><td>null</td><td>null</td><td>null</td><td>null</td><td>null</td><td>null</td><td>null</td><td>null</td><td>null</td><td>null</td><td>null</td><td>null</td><td>null</td><td>null</td><td>null</td><td>null</td><td>null</td><td>null</td><td>null</td><td>null</td><td>null</td><td>null</td><td>null</td><td>null</td><td>null</td><td>null</td><td>null</td><td>null</td><td>null</td><td>null</td><td>null</td><td>null</td><td>null</td><td>null</td><td>360610041005003</td></tr><tr><td>b2181f7b66674e382f44f30f</td><td>Twin Brothers Movers</td><td>null</td><td>40.76977</td><td>-73.966143</td><td>Map(drop_off -> Map(longitude -> -73.96622, latitude -> 40.769585), roof -> Map(longitude -> -73.966143, latitude -> 40.76977), main -> Map(longitude -> -73.966143, latitude -> 40.76977))</td><td>25 E 69th St</td><td>null</td><td>New York</td><td>New York</td><td>NY</td><td>10021</td><td>us</td><td>null</td><td>null</td><td>List(Lenox Hill, Upper East Side, Uptown)</td><td>null</td><td>2019-04-21</td><td>2023-04-16</td><td>List(11093)</td><td>List(List(Business and Professional Services, Home Improvement Service, Mover))</td><td>null</td><td>null</td><td>null</td><td>null</td><td>Map(sunday -> List(List(8:30, 20:00)), tuesday -> List(List(8:30, 20:00)), wednesday -> List(List(8:30, 20:00)), monday -> List(List(8:30, 20:00)), friday -> List(List(8:30, 20:00)), thursday -> List(List(8:30, 20:00)), saturday -> List(List(8:30, 20:00)))</td><td>null</td><td>Open Daily 8:30 AM-8:00 PM</td><td>(718) 412-8888</td><td>http://twinbrothersmovers.com</td><td>null</td><td>null</td><td>null</td><td>null</td><td>null</td><td>null</td><td>null</td><td>null</td><td>null</td><td>null</td><td>null</td><td>null</td><td>null</td><td>0.1</td><td>High</td><td>4</td><td>null</td><td>VeryLikelyOpen</td><td>null</td><td>null</td><td>null</td><td>null</td><td>null</td><td>null</td><td>null</td><td>null</td><td>null</td><td>null</td><td>null</td><td>null</td><td>null</td><td>null</td><td>null</td><td>null</td><td>null</td><td>null</td><td>null</td><td>null</td><td>null</td><td>null</td><td>null</td><td>null</td><td>null</td><td>null</td><td>null</td><td>null</td><td>null</td><td>null</td><td>null</td><td>null</td><td>null</td><td>null</td><td>null</td><td>null</td><td>null</td><td>null</td><td>null</td><td>null</td><td>null</td><td>null</td><td>null</td><td>null</td><td>null</td><td>null</td><td>null</td><td>null</td><td>null</td><td>null</td><td>null</td><td>null</td><td>null</td><td>null</td><td>null</td><td>null</td><td>null</td><td>null</td><td>null</td><td>null</td><td>null</td><td>null</td><td>null</td><td>null</td><td>null</td><td>null</td><td>null</td><td>null</td><td>null</td><td>360610122001000</td></tr><tr><td>e3ce94a6e34940a9dfa96d66</td><td>UAW Local 2320</td><td>null</td><td>40.734321</td><td>-73.992103</td><td>Map(drop_off -> Map(longitude -> -73.992291, latitude -> 40.734488), roof -> Map(longitude -> -73.992103, latitude -> 40.734321), main -> Map(longitude -> -73.992103, latitude -> 40.734321))</td><td>113 University Pl</td><td>Rm 5L</td><td>New York</td><td>New York</td><td>NY</td><td>10003</td><td>us</td><td>null</td><td>null</td><td>List(Downtown, East Village, Greenwich Village, Midtown, Midtown South, NoHo, Union Square, West Village)</td><td>null</td><td>2012-05-21</td><td>2022-12-26</td><td>List(12082)</td><td>List(List(Community and Government, Organization))</td><td>null</td><td>null</td><td>null</td><td>null</td><td>null</td><td>null</td><td>null</td><td>(212) 228-0992</td><td>http://nolsw.org</td><td>null</td><td>pickering_william@uaw2322.org</td><td>null</td><td>null</td><td>null</td><td>null</td><td>null</td><td>null</td><td>null</td><td>null</td><td>null</td><td>null</td><td>null</td><td>0.14</td><td>High</td><td>4</td><td>null</td><td>Unsure</td><td>null</td><td>null</td><td>null</td><td>null</td><td>null</td><td>null</td><td>null</td><td>null</td><td>null</td><td>null</td><td>null</td><td>null</td><td>null</td><td>null</td><td>null</td><td>null</td><td>null</td><td>null</td><td>null</td><td>null</td><td>null</td><td>null</td><td>null</td><td>null</td><td>null</td><td>null</td><td>null</td><td>null</td><td>null</td><td>null</td><td>null</td><td>null</td><td>null</td><td>null</td><td>null</td><td>null</td><td>null</td><td>null</td><td>null</td><td>null</td><td>null</td><td>null</td><td>null</td><td>null</td><td>null</td><td>null</td><td>null</td><td>null</td><td>null</td><td>null</td><td>null</td><td>null</td><td>null</td><td>null</td><td>null</td><td>null</td><td>null</td><td>null</td><td>null</td><td>null</td><td>null</td><td>null</td><td>null</td><td>null</td><td>null</td><td>null</td><td>null</td><td>null</td><td>null</td><td>360610061003002</td></tr></tbody></table></div>"
      ]
     },
     "metadata": {
      "application/vnd.databricks.v1+output": {
       "addedWidgets": {},
       "aggData": [],
       "aggError": "",
       "aggOverflow": false,
       "aggSchema": [],
       "aggSeriesLimitReached": false,
       "aggType": "",
       "arguments": {},
       "columnCustomDisplayInfos": {},
       "data": [
        [
         "23dbd876e604430510e9f69d",
         "Bilkent University",
         null,
         40.748328,
         -73.984879,
         {
          "main": {
           "latitude": 40.748328,
           "longitude": -73.984879
          },
          "roof": {
           "latitude": 40.748328,
           "longitude": -73.984879
          }
         },
         "350 5th Ave",
         null,
         "New York",
         "New York",
         "NY",
         "10118",
         "us",
         null,
         null,
         [
          "East Side",
          "Flatiron",
          "Flatiron District",
          "Garment District",
          "Koreatown",
          "Midtown",
          "Midtown South",
          "Midtown West",
          "Murray Hill"
         ],
         null,
         "2012-05-21",
         "2022-10-16",
         [
          12013
         ],
         [
          [
           "Community and Government",
           "Education",
           "College and University"
          ]
         ],
         null,
         null,
         null,
         null,
         null,
         null,
         null,
         "(212) 564-0175",
         "http://www.bsa-gnyc.org",
         null,
         "rpetrillo@bsa-gnyc.org",
         null,
         null,
         null,
         null,
         null,
         null,
         null,
         null,
         null,
         null,
         null,
         0.18,
         "High",
         4,
         null,
         "Unsure",
         null,
         null,
         null,
         null,
         null,
         null,
         null,
         null,
         null,
         null,
         null,
         null,
         null,
         null,
         null,
         null,
         null,
         null,
         null,
         null,
         null,
         null,
         null,
         null,
         null,
         null,
         null,
         null,
         null,
         null,
         null,
         null,
         null,
         null,
         null,
         null,
         null,
         null,
         null,
         null,
         null,
         null,
         null,
         null,
         null,
         null,
         null,
         null,
         null,
         null,
         null,
         null,
         null,
         null,
         null,
         null,
         null,
         null,
         null,
         null,
         null,
         null,
         null,
         null,
         null,
         null,
         null,
         null,
         null,
         "360610076001001"
        ],
        [
         "4a22d7f9f964a520977d1fe3",
         "Sant Ambroeus",
         null,
         40.775413,
         -73.962997,
         {
          "main": {
           "latitude": 40.775413,
           "longitude": -73.962997
          },
          "roof": {
           "latitude": 40.775413,
           "longitude": -73.962997
          }
         },
         "1000 Madison Ave",
         "btwn 77th  78th St.",
         "New York",
         null,
         "NY",
         "10075",
         "us",
         null,
         null,
         [
          "Upper East Side",
          "Uptown"
         ],
         null,
         "2009-05-31",
         "2023-05-16",
         [
          13236
         ],
         [
          [
           "Dining and Drinking",
           "Restaurant",
           "Italian Restaurant"
          ]
         ],
         null,
         null,
         null,
         null,
         {
          "friday": [
           [
            "8:00",
            "22:00"
           ]
          ],
          "monday": [
           [
            "8:00",
            "22:00"
           ]
          ],
          "saturday": [
           [
            "8:00",
            "22:00"
           ]
          ],
          "sunday": [
           [
            "8:00",
            "22:00"
           ]
          ],
          "thursday": [
           [
            "8:00",
            "22:00"
           ]
          ],
          "tuesday": [
           [
            "8:00",
            "22:00"
           ]
          ],
          "wednesday": [
           [
            "8:00",
            "22:00"
           ]
          ]
         },
         {
          "friday": [
           [
            "9:00",
            "18:00"
           ],
           [
            "21:00",
            "22:00"
           ]
          ],
          "monday": [
           [
            "9:00",
            "18:00"
           ]
          ],
          "saturday": [
           [
            "9:00",
            "20:00"
           ]
          ],
          "sunday": [
           [
            "10:00",
            "19:00"
           ]
          ],
          "thursday": [
           [
            "9:00",
            "18:00"
           ]
          ],
          "tuesday": [
           [
            "9:00",
            "11:00"
           ],
           [
            "13:00",
            "17:00"
           ],
           [
            "19:00",
            "20:00"
           ]
          ],
          "wednesday": [
           [
            "9:00",
            "19:00"
           ]
          ]
         },
         "Open Daily 8:00 AM-10:00 PM",
         "(212) 570-2211",
         "http://www.santambroeus.com",
         "(212) 570-2214",
         "media@santambroeus.com",
         179539995429661,
         null,
         "sant_ambroeus",
         null,
         8.78,
         "VeryExpensive",
         90,
         [
          [
           "542c18c5498ead7dbea9041a",
           "Lovely ambience. The coffee was good- more like a light Italian roast. We had a Napoleon and a custard and fruit tart, both of which were really pretty to look at and tasted amazing!"
          ],
          [
           "4e7cff04a17c03c4fc905526",
           "Great ambiance and amazing staff.  You can stop in for a delicious coffee or Gelato or have a posh meal – the Crab Salad is delicious as are ALL of the desserts."
          ],
          [
           "515c7029e4b00a81e2c2b86f",
           "Amazing sea food risotto, better if u also order a glass of chardonnay!"
          ],
          [
           "4ee785bf29c220f974920288",
           "A slice of Italy on Madison Ave, come here for your sweet tooth fix.  Try the Sant Ambroeus - chocolate mousse cake with a chocolate custard center."
          ],
          [
           "4eb0560a108157d9cf60c518",
           "If you’re looking for a place to sit down and enjoy just a cup of coffee and dessert, come here.  The Salted-Almond Tart will satisfy your craving for a salty/sweet treat."
          ],
          [
           "55074217498e5d7e5e26563d",
           "The espresso with thick hot chocolate! So good!"
          ],
          [
           "51db14c9498e203a17610dab",
           "Expensive but good."
          ],
          [
           "5b70b5fd3af988002c820cc8",
           "Nice hot and cold coffee mixes. The green tea matcha latte with ice tastes delicious! Its expensive but worth a try. Cakes and pastries are good, although for cakes better go to Lady M."
          ],
          [
           "4c8e5433daa93704dcb14bb1",
           "Best berry brioche"
          ],
          [
           "57848601498ea4d68e24d278",
           "The lasagna is to die for, the best I've eaten in a while. Profiteroles are delicious and great quality gelatos!"
          ],
          [
           "555fded1498eb9571a849b34",
           "المكان جميل جدا ..الكوكيز لذيذة ..الخدمة ممتازة .."
          ],
          [
           "4df968c18877b30c3984f1b2",
           "Whoever put the eiffel tower as sant ambreous' icon should be ashamed"
          ],
          [
           "54308ac2498e7380bf181fbf",
           "The desserts are awesome however the meals themselves do seem a bit overpriced. Quiet atmosphere though for a business meeting."
          ],
          [
           "59062e2535dfa763d5edf6ac",
           "Ótimas opções de café e sanduíches !"
          ],
          [
           "4f2ade43e4b012389a815371",
           "Gossip Girl: Serena reminisces with cousin Charlie (Episode: 418)"
          ],
          [
           "5c37cdbc92e7a9002ca46e4d",
           "Buenísima la Milanesa de ternera !!!  Mmmm"
          ],
          [
           "510529aee4b04ee8ad0ae458",
           "Excellent pastries and espresso!...Also close to our 980 Madison Avenue Gallery!"
          ],
          [
           "58bc6471a37d722751e12018",
           "Amaaaaaazing lasagna      "
          ],
          [
           "541f683e498e9f1c1102c53e",
           "Service sometimes snooty and food is overpriced, but a good meeting place especially for coffee on weekends."
          ],
          [
           "55d2ae2a498e2c918a786efd",
           "The food was great. I recommend the signature chocolate cake   "
          ],
          [
           "550d78c4498e6ec941647121",
           "Pasta, cappuccinos"
          ],
          [
           "577056ff498e8cbf5d2c527c",
           "  disappointing. Iced coffee tasted burnt and a large (L) bottle of pellegrino was 9.50. Cute interior but not worth the price"
          ],
          [
           "5071cbf3e4b0339d316d8a13",
           "Don't miss the hot chocolate! Amazing!!!"
          ],
          [
           "55edb91b498edaf32ef6e48f",
           "In the summer gelato. A must. The rest of the year :) desserts , cookies , brunch, lunch just go :) trust me you'll love it"
          ],
          [
           "53ee5d32498e00c9649062cc",
           "Expensive but good chocolate chip gelato and espresso."
          ]
         ],
         [
          "gelato",
          "coffee",
          "espresso",
          "desserts",
          "chocolate mousse cake",
          "mousse cake",
          "cappuccinos",
          "espresso drinks",
          "Italian food",
          "pastries",
          "French",
          "cake",
          "café",
          "French pastries",
          "chocolate cake",
          "chocolate mousse",
          "paninis",
          "French food",
          "tarts",
          "brioche",
          "seafood",
          "sandwiches",
          "people watching",
          "lasagna",
          "fancy"
         ],
         337,
         [
          "https://ir.4sqi.net/img/general/original/3082214_1pyLrT2PB-c_Oj-uqYL0hjActSyJePeTasabh7CtfvQ.jpg",
          "https://ir.4sqi.net/img/general/original/12677300_IUvSlNBBDxgDSLdCvwWGcltMF3Kwe0mpl8cp2GE936I.jpg",
          "https://ir.4sqi.net/img/general/original/54114818_xOxjrjgboFlq7EZ-vqLx0j2t8QXLhPXHRKIivpKB2GE.jpg",
          "https://ir.4sqi.net/img/general/original/21780501_WjixSr1t--qxyl9Y9d8lX0GI7unth21LjY2h0HirvdY.jpg",
          "https://ir.4sqi.net/img/general/original/NRVa-epTrfV0opf-b3C3p4j9eWniC1wSElHSZ4umUss.jpg",
          "https://ir.4sqi.net/img/general/original/12014730_MAvk7O_GosM6gQh7_-KtlvM6YKnhbyr4DHn7WHZTJyM.jpg",
          "https://ir.4sqi.net/img/general/original/850409_tAYQAcMh3KzfnR1s2C_cYWmRNllwmxcUDr5WOPlkJu8.jpg",
          "https://ir.4sqi.net/img/general/original/kM_v4RcTfJAA446DmJdwnYlot3umODHuTGu2uBDPMrs.jpg",
          "https://ir.4sqi.net/img/general/original/24079145_uP4cp13NdOsA1zDyeFTSZnefkoxXtzKZ1zraMnfH4wo.jpg",
          "https://ir.4sqi.net/img/general/original/26971685_SLiLZI5nQeM8-4PrnTM_9Yq9F3Kbx2uCwBCq31xpyKI.jpg",
          "https://ir.4sqi.net/img/general/original/5698670_dyfk5JAASxscDVq-AvT0eX_pCMVf-48Xg_7E2enLk6k.jpg",
          "https://ir.4sqi.net/img/general/original/8JDa_CSNS21vIpNzOb0GVLilNBzlX9pfpspFfhvboF8.jpg",
          "https://ir.4sqi.net/img/general/original/0AGkKS5J2KsxfMgwLPYXg4-XW2UJ8U1N3Gdbxp67U4Y.jpg",
          "https://ir.4sqi.net/img/general/original/Npzvmi9ZPB30dFIX6pbTv4hz-My0Z1T6Lylw2CaNrAw.jpg",
          "https://ir.4sqi.net/img/general/original/41568639_B736p1S4jAyYp0i_NzKniOQ5Wx_bpH4TXWQHQTxVUzE.jpg",
          "https://ir.4sqi.net/img/general/original/1374516_4k9AciBQalbMsCdzgnTY8J_9opHD0M0xEuVWGqeoXk4.jpg",
          "https://ir.4sqi.net/img/general/original/1309576_gTeu0hfN9ynPSaD1txpNE-SE6i5MTrWtsX7qdkzrNow.jpg",
          "https://ir.4sqi.net/img/general/original/21331322_3-yPWdFI9hxyZLdTzpr2HL3u9uDLP_RZr_jxwcjh4-M.jpg",
          "https://ir.4sqi.net/img/general/original/18267129_hw6sjZX7pCTKf1dO9IKGLFDwSP0dRx01ynIwom2LnTY.jpg",
          "https://ir.4sqi.net/img/general/original/5545510_FKAu8uue_6iPGZ5G9e8VY_d8tIMS8YZftaxRv7Ch7FM.jpg",
          "https://ir.4sqi.net/img/general/original/1309576_YztDvjyIkM8Pe1-5XBt2g8mzn7vBC_L8VRRwsi9J3Cw.jpg",
          "https://ir.4sqi.net/img/general/original/4023487_-jQ2cIRnLhWZ6y4vDxS7xW2TogsVnTphlJnk-AGMsyU.jpg",
          "https://ir.4sqi.net/img/general/original/NHrhbFS2TkyWmNNaDcNLuwfjlxfnWiIV_vCAwftGHZU.jpg",
          "https://ir.4sqi.net/img/general/original/95423_rxa0Ceme4ysBX8otYxnjsWsWwSIAXE8WcR_7ADYeb84.jpg",
          "https://ir.4sqi.net/img/general/original/286574_0delhVyi9PzOHhmjCQHm6W6Xv0NZt8DhozktKOu6rAM.jpg"
         ],
         0.64,
         "VeryHigh",
         1,
         null,
         "LikelyOpen",
         null,
         null,
         null,
         "Great",
         null,
         "Great",
         null,
         true,
         "Great",
         "Great",
         false,
         null,
         null,
         null,
         "Average",
         true,
         null,
         null,
         null,
         "Average",
         null,
         null,
         null,
         null,
         "Average",
         false,
         "Average",
         true,
         false,
         null,
         null,
         null,
         "Great",
         true,
         null,
         "Average",
         null,
         true,
         true,
         true,
         true,
         true,
         true,
         null,
         "Great",
         null,
         null,
         null,
         null,
         "Great",
         null,
         null,
         true,
         true,
         null,
         true,
         true,
         null,
         null,
         true,
         "Great",
         null,
         null,
         "Great",
         null,
         null,
         null,
         "n",
         true,
         "360610142004002"
        ],
        [
         "4da2442cb521224b289c06ee",
         "Cascina Ristorante",
         null,
         40.718958,
         -73.997697,
         {
          "main": {
           "latitude": 40.718958,
           "longitude": -73.997697
          },
          "roof": {
           "latitude": 40.718958,
           "longitude": -73.997697
          }
         },
         "Greenwich Village",
         null,
         "New York",
         "New York",
         "NY",
         "10014",
         "us",
         null,
         null,
         [
          "Chinatown",
          "Downtown",
          "Little Italy",
          "Lower Manhattan",
          "Nolita",
          "Soho"
         ],
         null,
         "2011-04-10",
         "2022-10-15",
         [
          13236
         ],
         [
          [
           "Dining and Drinking",
           "Restaurant",
           "Italian Restaurant"
          ]
         ],
         null,
         null,
         null,
         null,
         null,
         {
          "friday": [
           [
            "13:00",
            "16:00"
           ],
           [
            "19:00",
            "22:00"
           ]
          ],
          "monday": [
           [
            "16:00",
            "17:00"
           ],
           [
            "19:00",
            "21:00"
           ]
          ],
          "saturday": [
           [
            "13:00",
            "14:00"
           ],
           [
            "17:00",
            "24:00"
           ]
          ],
          "sunday": [
           [
            "12:00",
            "13:00"
           ],
           [
            "15:00",
            "23:00"
           ]
          ],
          "thursday": [
           [
            "15:00",
            "16:00"
           ],
           [
            "18:00",
            "22:00"
           ]
          ],
          "tuesday": [
           [
            "20:00",
            "22:00"
           ]
          ],
          "wednesday": [
           [
            "12:00",
            "13:00"
           ],
           [
            "20:00",
            "22:00"
           ]
          ]
         },
         null,
         null,
         null,
         null,
         null,
         null,
         null,
         null,
         null,
         null,
         "Moderate",
         3,
         [
          [
           "4ededcfbf79009df3179c10b",
           "This place is no good! I ordered cheese ravioli and they tries to pass off lobster ravioli as cheese. Thank god I'm not allergic to shellfish!"
          ],
          [
           "4f96dfdde4b07ffbb263e403",
           "They Over Charge and Add a 20% tip on check we were only 4 people."
          ],
          [
           "4f21d377e4b0020c2c164dcc",
           "They have great service. The staff is nice, but the menu is limited. There's a piano that they let you play."
          ]
         ],
         [
          "Italian food",
          "staff"
         ],
         3,
         [
          "https://ir.4sqi.net/img/general/original/1866845_6Wf_aOdk542RO9nf3by5hx2xGmZE67_HDuzxZV-MtFA.jpg",
          "https://ir.4sqi.net/img/general/original/9lZkoir6WdUBXP51UccGon0huIolYX0dTV2c59j-h-Q.jpg",
          "https://ir.4sqi.net/img/general/original/UAsPXn8sGZezGa9Jz7us0YjN1Si2lkEOxPTvhciQUOQ.jpg"
         ],
         0.5067621647958821,
         "High",
         3,
         null,
         "Unsure",
         null,
         null,
         null,
         null,
         null,
         null,
         null,
         null,
         null,
         null,
         null,
         null,
         null,
         null,
         null,
         null,
         null,
         null,
         null,
         null,
         null,
         null,
         null,
         null,
         null,
         null,
         null,
         null,
         null,
         null,
         null,
         null,
         null,
         null,
         null,
         null,
         null,
         null,
         null,
         null,
         null,
         null,
         null,
         null,
         null,
         null,
         null,
         null,
         null,
         null,
         null,
         null,
         null,
         null,
         null,
         null,
         null,
         null,
         null,
         null,
         null,
         null,
         null,
         null,
         null,
         null,
         null,
         null,
         null,
         "360610041005003"
        ],
        [
         "b2181f7b66674e382f44f30f",
         "Twin Brothers Movers",
         null,
         40.76977,
         -73.966143,
         {
          "drop_off": {
           "latitude": 40.769585,
           "longitude": -73.96622
          },
          "main": {
           "latitude": 40.76977,
           "longitude": -73.966143
          },
          "roof": {
           "latitude": 40.76977,
           "longitude": -73.966143
          }
         },
         "25 E 69th St",
         null,
         "New York",
         "New York",
         "NY",
         "10021",
         "us",
         null,
         null,
         [
          "Lenox Hill",
          "Upper East Side",
          "Uptown"
         ],
         null,
         "2019-04-21",
         "2023-04-16",
         [
          11093
         ],
         [
          [
           "Business and Professional Services",
           "Home Improvement Service",
           "Mover"
          ]
         ],
         null,
         null,
         null,
         null,
         {
          "friday": [
           [
            "8:30",
            "20:00"
           ]
          ],
          "monday": [
           [
            "8:30",
            "20:00"
           ]
          ],
          "saturday": [
           [
            "8:30",
            "20:00"
           ]
          ],
          "sunday": [
           [
            "8:30",
            "20:00"
           ]
          ],
          "thursday": [
           [
            "8:30",
            "20:00"
           ]
          ],
          "tuesday": [
           [
            "8:30",
            "20:00"
           ]
          ],
          "wednesday": [
           [
            "8:30",
            "20:00"
           ]
          ]
         },
         null,
         "Open Daily 8:30 AM-8:00 PM",
         "(718) 412-8888",
         "http://twinbrothersmovers.com",
         null,
         null,
         null,
         null,
         null,
         null,
         null,
         null,
         null,
         null,
         null,
         null,
         null,
         0.1,
         "High",
         4,
         null,
         "VeryLikelyOpen",
         null,
         null,
         null,
         null,
         null,
         null,
         null,
         null,
         null,
         null,
         null,
         null,
         null,
         null,
         null,
         null,
         null,
         null,
         null,
         null,
         null,
         null,
         null,
         null,
         null,
         null,
         null,
         null,
         null,
         null,
         null,
         null,
         null,
         null,
         null,
         null,
         null,
         null,
         null,
         null,
         null,
         null,
         null,
         null,
         null,
         null,
         null,
         null,
         null,
         null,
         null,
         null,
         null,
         null,
         null,
         null,
         null,
         null,
         null,
         null,
         null,
         null,
         null,
         null,
         null,
         null,
         null,
         null,
         null,
         "360610122001000"
        ],
        [
         "e3ce94a6e34940a9dfa96d66",
         "UAW Local 2320",
         null,
         40.734321,
         -73.992103,
         {
          "drop_off": {
           "latitude": 40.734488,
           "longitude": -73.992291
          },
          "main": {
           "latitude": 40.734321,
           "longitude": -73.992103
          },
          "roof": {
           "latitude": 40.734321,
           "longitude": -73.992103
          }
         },
         "113 University Pl",
         "Rm 5L",
         "New York",
         "New York",
         "NY",
         "10003",
         "us",
         null,
         null,
         [
          "Downtown",
          "East Village",
          "Greenwich Village",
          "Midtown",
          "Midtown South",
          "NoHo",
          "Union Square",
          "West Village"
         ],
         null,
         "2012-05-21",
         "2022-12-26",
         [
          12082
         ],
         [
          [
           "Community and Government",
           "Organization"
          ]
         ],
         null,
         null,
         null,
         null,
         null,
         null,
         null,
         "(212) 228-0992",
         "http://nolsw.org",
         null,
         "pickering_william@uaw2322.org",
         null,
         null,
         null,
         null,
         null,
         null,
         null,
         null,
         null,
         null,
         null,
         0.14,
         "High",
         4,
         null,
         "Unsure",
         null,
         null,
         null,
         null,
         null,
         null,
         null,
         null,
         null,
         null,
         null,
         null,
         null,
         null,
         null,
         null,
         null,
         null,
         null,
         null,
         null,
         null,
         null,
         null,
         null,
         null,
         null,
         null,
         null,
         null,
         null,
         null,
         null,
         null,
         null,
         null,
         null,
         null,
         null,
         null,
         null,
         null,
         null,
         null,
         null,
         null,
         null,
         null,
         null,
         null,
         null,
         null,
         null,
         null,
         null,
         null,
         null,
         null,
         null,
         null,
         null,
         null,
         null,
         null,
         null,
         null,
         null,
         null,
         null,
         "360610061003002"
        ]
       ],
       "datasetInfos": [
        {
         "name": "_sqldf",
         "schema": {
          "fields": [
           {
            "metadata": {
             "comment": ""
            },
            "name": "fsq_id",
            "nullable": true,
            "type": "string"
           },
           {
            "metadata": {
             "comment": ""
            },
            "name": "name",
            "nullable": true,
            "type": "string"
           },
           {
            "metadata": {
             "comment": ""
            },
            "name": "name_translated",
            "nullable": true,
            "type": {
             "containsNull": true,
             "elementType": {
              "keyType": "string",
              "type": "map",
              "valueContainsNull": true,
              "valueType": "string"
             },
             "type": "array"
            }
           },
           {
            "metadata": {
             "comment": ""
            },
            "name": "latitude",
            "nullable": true,
            "type": "double"
           },
           {
            "metadata": {
             "comment": ""
            },
            "name": "longitude",
            "nullable": true,
            "type": "double"
           },
           {
            "metadata": {
             "comment": ""
            },
            "name": "geocodes",
            "nullable": true,
            "type": {
             "keyType": "string",
             "type": "map",
             "valueContainsNull": true,
             "valueType": {
              "keyType": "string",
              "type": "map",
              "valueContainsNull": true,
              "valueType": "double"
             }
            }
           },
           {
            "metadata": {
             "comment": ""
            },
            "name": "address",
            "nullable": true,
            "type": "string"
           },
           {
            "metadata": {
             "comment": ""
            },
            "name": "address_extended",
            "nullable": true,
            "type": "string"
           },
           {
            "metadata": {
             "comment": ""
            },
            "name": "locality",
            "nullable": true,
            "type": "string"
           },
           {
            "metadata": {
             "comment": ""
            },
            "name": "dma",
            "nullable": true,
            "type": "string"
           },
           {
            "metadata": {
             "comment": ""
            },
            "name": "region",
            "nullable": true,
            "type": "string"
           },
           {
            "metadata": {
             "comment": ""
            },
            "name": "postcode",
            "nullable": true,
            "type": "string"
           },
           {
            "metadata": {
             "comment": ""
            },
            "name": "country",
            "nullable": true,
            "type": "string"
           },
           {
            "metadata": {
             "comment": ""
            },
            "name": "admin_region",
            "nullable": true,
            "type": "string"
           },
           {
            "metadata": {
             "comment": ""
            },
            "name": "post_town",
            "nullable": true,
            "type": "string"
           },
           {
            "metadata": {
             "comment": ""
            },
            "name": "neighborhood",
            "nullable": true,
            "type": {
             "containsNull": true,
             "elementType": "string",
             "type": "array"
            }
           },
           {
            "metadata": {
             "comment": ""
            },
            "name": "po_box",
            "nullable": true,
            "type": "string"
           },
           {
            "metadata": {},
            "name": "date_created",
            "nullable": true,
            "type": "date"
           },
           {
            "metadata": {},
            "name": "date_refreshed",
            "nullable": true,
            "type": "date"
           },
           {
            "metadata": {},
            "name": "fsq_category_ids",
            "nullable": true,
            "type": {
             "containsNull": true,
             "elementType": "long",
             "type": "array"
            }
           },
           {
            "metadata": {},
            "name": "fsq_category_labels",
            "nullable": true,
            "type": {
             "containsNull": true,
             "elementType": {
              "containsNull": true,
              "elementType": "string",
              "type": "array"
             },
             "type": "array"
            }
           },
           {
            "metadata": {
             "comment": ""
            },
            "name": "fsq_chain_id",
            "nullable": true,
            "type": {
             "containsNull": true,
             "elementType": "string",
             "type": "array"
            }
           },
           {
            "metadata": {
             "comment": ""
            },
            "name": "fsq_chain_name",
            "nullable": true,
            "type": {
             "containsNull": true,
             "elementType": "string",
             "type": "array"
            }
           },
           {
            "metadata": {
             "comment": ""
            },
            "name": "parent_id",
            "nullable": true,
            "type": "string"
           },
           {
            "metadata": {
             "comment": ""
            },
            "name": "subvenue_count",
            "nullable": true,
            "type": "long"
           },
           {
            "metadata": {
             "comment": ""
            },
            "name": "hours",
            "nullable": true,
            "type": {
             "keyType": "string",
             "type": "map",
             "valueContainsNull": true,
             "valueType": {
              "containsNull": true,
              "elementType": {
               "containsNull": true,
               "elementType": "string",
               "type": "array"
              },
              "type": "array"
             }
            }
           },
           {
            "metadata": {
             "comment": ""
            },
            "name": "hours_popular",
            "nullable": true,
            "type": {
             "keyType": "string",
             "type": "map",
             "valueContainsNull": true,
             "valueType": {
              "containsNull": true,
              "elementType": {
               "containsNull": true,
               "elementType": "string",
               "type": "array"
              },
              "type": "array"
             }
            }
           },
           {
            "metadata": {
             "comment": ""
            },
            "name": "hours_display",
            "nullable": true,
            "type": "string"
           },
           {
            "metadata": {
             "comment": ""
            },
            "name": "tel",
            "nullable": true,
            "type": "string"
           },
           {
            "metadata": {
             "comment": ""
            },
            "name": "website",
            "nullable": true,
            "type": "string"
           },
           {
            "metadata": {
             "comment": ""
            },
            "name": "fax",
            "nullable": true,
            "type": "string"
           },
           {
            "metadata": {
             "comment": ""
            },
            "name": "email",
            "nullable": true,
            "type": "string"
           },
           {
            "metadata": {
             "comment": ""
            },
            "name": "facebook_id",
            "nullable": true,
            "type": "long"
           },
           {
            "metadata": {
             "comment": ""
            },
            "name": "instagram",
            "nullable": true,
            "type": "string"
           },
           {
            "metadata": {
             "comment": ""
            },
            "name": "twitter",
            "nullable": true,
            "type": "string"
           },
           {
            "metadata": {
             "comment": ""
            },
            "name": "description",
            "nullable": true,
            "type": "string"
           },
           {
            "metadata": {
             "comment": ""
            },
            "name": "rating",
            "nullable": true,
            "type": "double"
           },
           {
            "metadata": {
             "comment": ""
            },
            "name": "price",
            "nullable": true,
            "type": "string"
           },
           {
            "metadata": {
             "comment": ""
            },
            "name": "total_tips",
            "nullable": true,
            "type": "long"
           },
           {
            "metadata": {
             "comment": ""
            },
            "name": "tips",
            "nullable": true,
            "type": {
             "containsNull": true,
             "elementType": {
              "containsNull": true,
              "elementType": "string",
              "type": "array"
             },
             "type": "array"
            }
           },
           {
            "metadata": {
             "comment": ""
            },
            "name": "tastes",
            "nullable": true,
            "type": {
             "containsNull": true,
             "elementType": "string",
             "type": "array"
            }
           },
           {
            "metadata": {
             "comment": ""
            },
            "name": "total_photos",
            "nullable": true,
            "type": "long"
           },
           {
            "metadata": {
             "comment": ""
            },
            "name": "photos",
            "nullable": true,
            "type": {
             "containsNull": true,
             "elementType": "string",
             "type": "array"
            }
           },
           {
            "metadata": {
             "comment": ""
            },
            "name": "popularity",
            "nullable": true,
            "type": "double"
           },
           {
            "metadata": {
             "comment": ""
            },
            "name": "venue_reality_bucket",
            "nullable": true,
            "type": "string"
           },
           {
            "metadata": {
             "comment": ""
            },
            "name": "provenance_rating",
            "nullable": true,
            "type": "long"
           },
           {
            "metadata": {},
            "name": "date_closed",
            "nullable": true,
            "type": "date"
           },
           {
            "metadata": {
             "comment": ""
            },
            "name": "closed_bucket",
            "nullable": true,
            "type": "string"
           },
           {
            "metadata": {
             "comment": ""
            },
            "name": "atm",
            "nullable": true,
            "type": "boolean"
           },
           {
            "metadata": {
             "comment": ""
            },
            "name": "beer",
            "nullable": true,
            "type": "boolean"
           },
           {
            "metadata": {
             "comment": ""
            },
            "name": "barservice",
            "nullable": true,
            "type": "boolean"
           },
           {
            "metadata": {
             "comment": ""
            },
            "name": "businessmeeting",
            "nullable": true,
            "type": "string"
           },
           {
            "metadata": {
             "comment": ""
            },
            "name": "byo",
            "nullable": true,
            "type": "boolean"
           },
           {
            "metadata": {
             "comment": ""
            },
            "name": "clean",
            "nullable": true,
            "type": "string"
           },
           {
            "metadata": {
             "comment": ""
            },
            "name": "coatcheck",
            "nullable": true,
            "type": "boolean"
           },
           {
            "metadata": {
             "comment": ""
            },
            "name": "cocktails",
            "nullable": true,
            "type": "boolean"
           },
           {
            "metadata": {
             "comment": ""
            },
            "name": "crowded",
            "nullable": true,
            "type": "string"
           },
           {
            "metadata": {
             "comment": ""
            },
            "name": "datespopular",
            "nullable": true,
            "type": "string"
           },
           {
            "metadata": {
             "comment": ""
            },
            "name": "delivery",
            "nullable": true,
            "type": "boolean"
           },
           {
            "metadata": {
             "comment": ""
            },
            "name": "dressy",
            "nullable": true,
            "type": "string"
           },
           {
            "metadata": {
             "comment": ""
            },
            "name": "drivethrough",
            "nullable": true,
            "type": "boolean"
           },
           {
            "metadata": {
             "comment": ""
            },
            "name": "essentialreservations",
            "nullable": true,
            "type": "boolean"
           },
           {
            "metadata": {
             "comment": ""
            },
            "name": "familiespopular",
            "nullable": true,
            "type": "string"
           },
           {
            "metadata": {
             "comment": ""
            },
            "name": "fullbar",
            "nullable": true,
            "type": "boolean"
           },
           {
            "metadata": {
             "comment": ""
            },
            "name": "glutenfreediet",
            "nullable": true,
            "type": "string"
           },
           {
            "metadata": {
             "comment": ""
            },
            "name": "goodfordogs",
            "nullable": true,
            "type": "string"
           },
           {
            "metadata": {
             "comment": ""
            },
            "name": "groupsonlyreservations",
            "nullable": true,
            "type": "boolean"
           },
           {
            "metadata": {
             "comment": ""
            },
            "name": "groupspopular",
            "nullable": true,
            "type": "string"
           },
           {
            "metadata": {
             "comment": ""
            },
            "name": "hasmusic",
            "nullable": true,
            "type": "boolean"
           },
           {
            "metadata": {
             "comment": ""
            },
            "name": "hasparking",
            "nullable": true,
            "type": "boolean"
           },
           {
            "metadata": {
             "comment": ""
            },
            "name": "healthydiet",
            "nullable": true,
            "type": "string"
           },
           {
            "metadata": {
             "comment": ""
            },
            "name": "jukeboxmusic",
            "nullable": true,
            "type": "boolean"
           },
           {
            "metadata": {
             "comment": ""
            },
            "name": "latenight",
            "nullable": true,
            "type": "string"
           },
           {
            "metadata": {
             "comment": ""
            },
            "name": "livemusic",
            "nullable": true,
            "type": "boolean"
           },
           {
            "metadata": {
             "comment": ""
            },
            "name": "noisy",
            "nullable": true,
            "type": "string"
           },
           {
            "metadata": {
             "comment": ""
            },
            "name": "onlinereservations",
            "nullable": true,
            "type": "boolean"
           },
           {
            "metadata": {
             "comment": ""
            },
            "name": "outdoorseating",
            "nullable": true,
            "type": "boolean"
           },
           {
            "metadata": {
             "comment": ""
            },
            "name": "privatelot",
            "nullable": true,
            "type": "boolean"
           },
           {
            "metadata": {
             "comment": ""
            },
            "name": "privateroom",
            "nullable": true,
            "type": "boolean"
           },
           {
            "metadata": {
             "comment": ""
            },
            "name": "publiclot",
            "nullable": true,
            "type": "boolean"
           },
           {
            "metadata": {
             "comment": ""
            },
            "name": "quickbite",
            "nullable": true,
            "type": "string"
           },
           {
            "metadata": {
             "comment": ""
            },
            "name": "reservations",
            "nullable": true,
            "type": "boolean"
           },
           {
            "metadata": {
             "comment": ""
            },
            "name": "restroom",
            "nullable": true,
            "type": "boolean"
           },
           {
            "metadata": {
             "comment": ""
            },
            "name": "romantic",
            "nullable": true,
            "type": "string"
           },
           {
            "metadata": {
             "comment": ""
            },
            "name": "servesbarsnacks",
            "nullable": true,
            "type": "boolean"
           },
           {
            "metadata": {
             "comment": ""
            },
            "name": "servesbreakfast",
            "nullable": true,
            "type": "boolean"
           },
           {
            "metadata": {
             "comment": ""
            },
            "name": "servesbrunch",
            "nullable": true,
            "type": "boolean"
           },
           {
            "metadata": {
             "comment": ""
            },
            "name": "servesdessert",
            "nullable": true,
            "type": "boolean"
           },
           {
            "metadata": {
             "comment": ""
            },
            "name": "servesdinner",
            "nullable": true,
            "type": "boolean"
           },
           {
            "metadata": {
             "comment": ""
            },
            "name": "serveshappyhour",
            "nullable": true,
            "type": "boolean"
           },
           {
            "metadata": {
             "comment": ""
            },
            "name": "serveslunch",
            "nullable": true,
            "type": "boolean"
           },
           {
            "metadata": {
             "comment": ""
            },
            "name": "servestastingmenu",
            "nullable": true,
            "type": "boolean"
           },
           {
            "metadata": {
             "comment": ""
            },
            "name": "servicequality",
            "nullable": true,
            "type": "string"
           },
           {
            "metadata": {
             "comment": ""
            },
            "name": "singlespopular",
            "nullable": true,
            "type": "string"
           },
           {
            "metadata": {
             "comment": ""
            },
            "name": "sitdowndining",
            "nullable": true,
            "type": "boolean"
           },
           {
            "metadata": {
             "comment": ""
            },
            "name": "smoking",
            "nullable": true,
            "type": "boolean"
           },
           {
            "metadata": {},
            "name": "store_id",
            "nullable": true,
            "type": "string"
           },
           {
            "metadata": {
             "comment": ""
            },
            "name": "specialoccasion",
            "nullable": true,
            "type": "string"
           },
           {
            "metadata": {
             "comment": ""
            },
            "name": "streetparking",
            "nullable": true,
            "type": "boolean"
           },
           {
            "metadata": {
             "comment": ""
            },
            "name": "takeout",
            "nullable": true,
            "type": "boolean"
           },
           {
            "metadata": {
             "comment": ""
            },
            "name": "takesamex",
            "nullable": true,
            "type": "boolean"
           },
           {
            "metadata": {
             "comment": ""
            },
            "name": "takescreditcards",
            "nullable": true,
            "type": "boolean"
           },
           {
            "metadata": {
             "comment": ""
            },
            "name": "takesdinersclub",
            "nullable": true,
            "type": "boolean"
           },
           {
            "metadata": {
             "comment": ""
            },
            "name": "takesdiscover",
            "nullable": true,
            "type": "boolean"
           },
           {
            "metadata": {
             "comment": ""
            },
            "name": "takesmastercard",
            "nullable": true,
            "type": "boolean"
           },
           {
            "metadata": {
             "comment": ""
            },
            "name": "takesnfc",
            "nullable": true,
            "type": "boolean"
           },
           {
            "metadata": {
             "comment": ""
            },
            "name": "takesunionpay",
            "nullable": true,
            "type": "boolean"
           },
           {
            "metadata": {
             "comment": ""
            },
            "name": "takesvisa",
            "nullable": true,
            "type": "boolean"
           },
           {
            "metadata": {
             "comment": ""
            },
            "name": "trendy",
            "nullable": true,
            "type": "string"
           },
           {
            "metadata": {
             "comment": ""
            },
            "name": "tvs",
            "nullable": true,
            "type": "boolean"
           },
           {
            "metadata": {
             "comment": ""
            },
            "name": "valetparking",
            "nullable": true,
            "type": "boolean"
           },
           {
            "metadata": {
             "comment": ""
            },
            "name": "valueformoney",
            "nullable": true,
            "type": "string"
           },
           {
            "metadata": {
             "comment": ""
            },
            "name": "vegandiet",
            "nullable": true,
            "type": "string"
           },
           {
            "metadata": {
             "comment": ""
            },
            "name": "vegetariandiet",
            "nullable": true,
            "type": "string"
           },
           {
            "metadata": {
             "comment": ""
            },
            "name": "wheelchairaccessible",
            "nullable": true,
            "type": "boolean"
           },
           {
            "metadata": {
             "comment": ""
            },
            "name": "wifi",
            "nullable": true,
            "type": "string"
           },
           {
            "metadata": {
             "comment": ""
            },
            "name": "wine",
            "nullable": true,
            "type": "boolean"
           },
           {
            "metadata": {},
            "name": "census_block_id",
            "nullable": true,
            "type": "string"
           }
          ],
          "type": "struct"
         },
         "tableIdentifier": null,
         "typeStr": "pyspark.sql.connect.dataframe.DataFrame"
        }
       ],
       "dbfsResultPath": null,
       "isJsonSchema": true,
       "metadata": {
        "dataframeName": "_sqldf",
        "executionCount": 8
       },
       "overflow": false,
       "plotOptions": {
        "customPlotOptions": {},
        "displayType": "table",
        "pivotAggregation": null,
        "pivotColumns": null,
        "xColumns": null,
        "yColumns": null
       },
       "removedWidgets": [],
       "schema": [
        {
         "metadata": "{\"comment\": \"\"}",
         "name": "fsq_id",
         "type": "\"string\""
        },
        {
         "metadata": "{\"comment\": \"\"}",
         "name": "name",
         "type": "\"string\""
        },
        {
         "metadata": "{\"comment\": \"\"}",
         "name": "name_translated",
         "type": "{\"containsNull\":true,\"elementType\":{\"keyType\":\"string\",\"type\":\"map\",\"valueContainsNull\":true,\"valueType\":\"string\"},\"type\":\"array\"}"
        },
        {
         "metadata": "{\"comment\": \"\"}",
         "name": "latitude",
         "type": "\"double\""
        },
        {
         "metadata": "{\"comment\": \"\"}",
         "name": "longitude",
         "type": "\"double\""
        },
        {
         "metadata": "{\"comment\": \"\"}",
         "name": "geocodes",
         "type": "{\"keyType\":\"string\",\"type\":\"map\",\"valueContainsNull\":true,\"valueType\":{\"keyType\":\"string\",\"type\":\"map\",\"valueContainsNull\":true,\"valueType\":\"double\"}}"
        },
        {
         "metadata": "{\"comment\": \"\"}",
         "name": "address",
         "type": "\"string\""
        },
        {
         "metadata": "{\"comment\": \"\"}",
         "name": "address_extended",
         "type": "\"string\""
        },
        {
         "metadata": "{\"comment\": \"\"}",
         "name": "locality",
         "type": "\"string\""
        },
        {
         "metadata": "{\"comment\": \"\"}",
         "name": "dma",
         "type": "\"string\""
        },
        {
         "metadata": "{\"comment\": \"\"}",
         "name": "region",
         "type": "\"string\""
        },
        {
         "metadata": "{\"comment\": \"\"}",
         "name": "postcode",
         "type": "\"string\""
        },
        {
         "metadata": "{\"comment\": \"\"}",
         "name": "country",
         "type": "\"string\""
        },
        {
         "metadata": "{\"comment\": \"\"}",
         "name": "admin_region",
         "type": "\"string\""
        },
        {
         "metadata": "{\"comment\": \"\"}",
         "name": "post_town",
         "type": "\"string\""
        },
        {
         "metadata": "{\"comment\": \"\"}",
         "name": "neighborhood",
         "type": "{\"containsNull\":true,\"elementType\":\"string\",\"type\":\"array\"}"
        },
        {
         "metadata": "{\"comment\": \"\"}",
         "name": "po_box",
         "type": "\"string\""
        },
        {
         "metadata": "{}",
         "name": "date_created",
         "type": "\"date\""
        },
        {
         "metadata": "{}",
         "name": "date_refreshed",
         "type": "\"date\""
        },
        {
         "metadata": "{}",
         "name": "fsq_category_ids",
         "type": "{\"containsNull\":true,\"elementType\":\"long\",\"type\":\"array\"}"
        },
        {
         "metadata": "{}",
         "name": "fsq_category_labels",
         "type": "{\"containsNull\":true,\"elementType\":{\"containsNull\":true,\"elementType\":\"string\",\"type\":\"array\"},\"type\":\"array\"}"
        },
        {
         "metadata": "{\"comment\": \"\"}",
         "name": "fsq_chain_id",
         "type": "{\"containsNull\":true,\"elementType\":\"string\",\"type\":\"array\"}"
        },
        {
         "metadata": "{\"comment\": \"\"}",
         "name": "fsq_chain_name",
         "type": "{\"containsNull\":true,\"elementType\":\"string\",\"type\":\"array\"}"
        },
        {
         "metadata": "{\"comment\": \"\"}",
         "name": "parent_id",
         "type": "\"string\""
        },
        {
         "metadata": "{\"comment\": \"\"}",
         "name": "subvenue_count",
         "type": "\"long\""
        },
        {
         "metadata": "{\"comment\": \"\"}",
         "name": "hours",
         "type": "{\"keyType\":\"string\",\"type\":\"map\",\"valueContainsNull\":true,\"valueType\":{\"containsNull\":true,\"elementType\":{\"containsNull\":true,\"elementType\":\"string\",\"type\":\"array\"},\"type\":\"array\"}}"
        },
        {
         "metadata": "{\"comment\": \"\"}",
         "name": "hours_popular",
         "type": "{\"keyType\":\"string\",\"type\":\"map\",\"valueContainsNull\":true,\"valueType\":{\"containsNull\":true,\"elementType\":{\"containsNull\":true,\"elementType\":\"string\",\"type\":\"array\"},\"type\":\"array\"}}"
        },
        {
         "metadata": "{\"comment\": \"\"}",
         "name": "hours_display",
         "type": "\"string\""
        },
        {
         "metadata": "{\"comment\": \"\"}",
         "name": "tel",
         "type": "\"string\""
        },
        {
         "metadata": "{\"comment\": \"\"}",
         "name": "website",
         "type": "\"string\""
        },
        {
         "metadata": "{\"comment\": \"\"}",
         "name": "fax",
         "type": "\"string\""
        },
        {
         "metadata": "{\"comment\": \"\"}",
         "name": "email",
         "type": "\"string\""
        },
        {
         "metadata": "{\"comment\": \"\"}",
         "name": "facebook_id",
         "type": "\"long\""
        },
        {
         "metadata": "{\"comment\": \"\"}",
         "name": "instagram",
         "type": "\"string\""
        },
        {
         "metadata": "{\"comment\": \"\"}",
         "name": "twitter",
         "type": "\"string\""
        },
        {
         "metadata": "{\"comment\": \"\"}",
         "name": "description",
         "type": "\"string\""
        },
        {
         "metadata": "{\"comment\": \"\"}",
         "name": "rating",
         "type": "\"double\""
        },
        {
         "metadata": "{\"comment\": \"\"}",
         "name": "price",
         "type": "\"string\""
        },
        {
         "metadata": "{\"comment\": \"\"}",
         "name": "total_tips",
         "type": "\"long\""
        },
        {
         "metadata": "{\"comment\": \"\"}",
         "name": "tips",
         "type": "{\"containsNull\":true,\"elementType\":{\"containsNull\":true,\"elementType\":\"string\",\"type\":\"array\"},\"type\":\"array\"}"
        },
        {
         "metadata": "{\"comment\": \"\"}",
         "name": "tastes",
         "type": "{\"containsNull\":true,\"elementType\":\"string\",\"type\":\"array\"}"
        },
        {
         "metadata": "{\"comment\": \"\"}",
         "name": "total_photos",
         "type": "\"long\""
        },
        {
         "metadata": "{\"comment\": \"\"}",
         "name": "photos",
         "type": "{\"containsNull\":true,\"elementType\":\"string\",\"type\":\"array\"}"
        },
        {
         "metadata": "{\"comment\": \"\"}",
         "name": "popularity",
         "type": "\"double\""
        },
        {
         "metadata": "{\"comment\": \"\"}",
         "name": "venue_reality_bucket",
         "type": "\"string\""
        },
        {
         "metadata": "{\"comment\": \"\"}",
         "name": "provenance_rating",
         "type": "\"long\""
        },
        {
         "metadata": "{}",
         "name": "date_closed",
         "type": "\"date\""
        },
        {
         "metadata": "{\"comment\": \"\"}",
         "name": "closed_bucket",
         "type": "\"string\""
        },
        {
         "metadata": "{\"comment\": \"\"}",
         "name": "atm",
         "type": "\"boolean\""
        },
        {
         "metadata": "{\"comment\": \"\"}",
         "name": "beer",
         "type": "\"boolean\""
        },
        {
         "metadata": "{\"comment\": \"\"}",
         "name": "barservice",
         "type": "\"boolean\""
        },
        {
         "metadata": "{\"comment\": \"\"}",
         "name": "businessmeeting",
         "type": "\"string\""
        },
        {
         "metadata": "{\"comment\": \"\"}",
         "name": "byo",
         "type": "\"boolean\""
        },
        {
         "metadata": "{\"comment\": \"\"}",
         "name": "clean",
         "type": "\"string\""
        },
        {
         "metadata": "{\"comment\": \"\"}",
         "name": "coatcheck",
         "type": "\"boolean\""
        },
        {
         "metadata": "{\"comment\": \"\"}",
         "name": "cocktails",
         "type": "\"boolean\""
        },
        {
         "metadata": "{\"comment\": \"\"}",
         "name": "crowded",
         "type": "\"string\""
        },
        {
         "metadata": "{\"comment\": \"\"}",
         "name": "datespopular",
         "type": "\"string\""
        },
        {
         "metadata": "{\"comment\": \"\"}",
         "name": "delivery",
         "type": "\"boolean\""
        },
        {
         "metadata": "{\"comment\": \"\"}",
         "name": "dressy",
         "type": "\"string\""
        },
        {
         "metadata": "{\"comment\": \"\"}",
         "name": "drivethrough",
         "type": "\"boolean\""
        },
        {
         "metadata": "{\"comment\": \"\"}",
         "name": "essentialreservations",
         "type": "\"boolean\""
        },
        {
         "metadata": "{\"comment\": \"\"}",
         "name": "familiespopular",
         "type": "\"string\""
        },
        {
         "metadata": "{\"comment\": \"\"}",
         "name": "fullbar",
         "type": "\"boolean\""
        },
        {
         "metadata": "{\"comment\": \"\"}",
         "name": "glutenfreediet",
         "type": "\"string\""
        },
        {
         "metadata": "{\"comment\": \"\"}",
         "name": "goodfordogs",
         "type": "\"string\""
        },
        {
         "metadata": "{\"comment\": \"\"}",
         "name": "groupsonlyreservations",
         "type": "\"boolean\""
        },
        {
         "metadata": "{\"comment\": \"\"}",
         "name": "groupspopular",
         "type": "\"string\""
        },
        {
         "metadata": "{\"comment\": \"\"}",
         "name": "hasmusic",
         "type": "\"boolean\""
        },
        {
         "metadata": "{\"comment\": \"\"}",
         "name": "hasparking",
         "type": "\"boolean\""
        },
        {
         "metadata": "{\"comment\": \"\"}",
         "name": "healthydiet",
         "type": "\"string\""
        },
        {
         "metadata": "{\"comment\": \"\"}",
         "name": "jukeboxmusic",
         "type": "\"boolean\""
        },
        {
         "metadata": "{\"comment\": \"\"}",
         "name": "latenight",
         "type": "\"string\""
        },
        {
         "metadata": "{\"comment\": \"\"}",
         "name": "livemusic",
         "type": "\"boolean\""
        },
        {
         "metadata": "{\"comment\": \"\"}",
         "name": "noisy",
         "type": "\"string\""
        },
        {
         "metadata": "{\"comment\": \"\"}",
         "name": "onlinereservations",
         "type": "\"boolean\""
        },
        {
         "metadata": "{\"comment\": \"\"}",
         "name": "outdoorseating",
         "type": "\"boolean\""
        },
        {
         "metadata": "{\"comment\": \"\"}",
         "name": "privatelot",
         "type": "\"boolean\""
        },
        {
         "metadata": "{\"comment\": \"\"}",
         "name": "privateroom",
         "type": "\"boolean\""
        },
        {
         "metadata": "{\"comment\": \"\"}",
         "name": "publiclot",
         "type": "\"boolean\""
        },
        {
         "metadata": "{\"comment\": \"\"}",
         "name": "quickbite",
         "type": "\"string\""
        },
        {
         "metadata": "{\"comment\": \"\"}",
         "name": "reservations",
         "type": "\"boolean\""
        },
        {
         "metadata": "{\"comment\": \"\"}",
         "name": "restroom",
         "type": "\"boolean\""
        },
        {
         "metadata": "{\"comment\": \"\"}",
         "name": "romantic",
         "type": "\"string\""
        },
        {
         "metadata": "{\"comment\": \"\"}",
         "name": "servesbarsnacks",
         "type": "\"boolean\""
        },
        {
         "metadata": "{\"comment\": \"\"}",
         "name": "servesbreakfast",
         "type": "\"boolean\""
        },
        {
         "metadata": "{\"comment\": \"\"}",
         "name": "servesbrunch",
         "type": "\"boolean\""
        },
        {
         "metadata": "{\"comment\": \"\"}",
         "name": "servesdessert",
         "type": "\"boolean\""
        },
        {
         "metadata": "{\"comment\": \"\"}",
         "name": "servesdinner",
         "type": "\"boolean\""
        },
        {
         "metadata": "{\"comment\": \"\"}",
         "name": "serveshappyhour",
         "type": "\"boolean\""
        },
        {
         "metadata": "{\"comment\": \"\"}",
         "name": "serveslunch",
         "type": "\"boolean\""
        },
        {
         "metadata": "{\"comment\": \"\"}",
         "name": "servestastingmenu",
         "type": "\"boolean\""
        },
        {
         "metadata": "{\"comment\": \"\"}",
         "name": "servicequality",
         "type": "\"string\""
        },
        {
         "metadata": "{\"comment\": \"\"}",
         "name": "singlespopular",
         "type": "\"string\""
        },
        {
         "metadata": "{\"comment\": \"\"}",
         "name": "sitdowndining",
         "type": "\"boolean\""
        },
        {
         "metadata": "{\"comment\": \"\"}",
         "name": "smoking",
         "type": "\"boolean\""
        },
        {
         "metadata": "{}",
         "name": "store_id",
         "type": "\"string\""
        },
        {
         "metadata": "{\"comment\": \"\"}",
         "name": "specialoccasion",
         "type": "\"string\""
        },
        {
         "metadata": "{\"comment\": \"\"}",
         "name": "streetparking",
         "type": "\"boolean\""
        },
        {
         "metadata": "{\"comment\": \"\"}",
         "name": "takeout",
         "type": "\"boolean\""
        },
        {
         "metadata": "{\"comment\": \"\"}",
         "name": "takesamex",
         "type": "\"boolean\""
        },
        {
         "metadata": "{\"comment\": \"\"}",
         "name": "takescreditcards",
         "type": "\"boolean\""
        },
        {
         "metadata": "{\"comment\": \"\"}",
         "name": "takesdinersclub",
         "type": "\"boolean\""
        },
        {
         "metadata": "{\"comment\": \"\"}",
         "name": "takesdiscover",
         "type": "\"boolean\""
        },
        {
         "metadata": "{\"comment\": \"\"}",
         "name": "takesmastercard",
         "type": "\"boolean\""
        },
        {
         "metadata": "{\"comment\": \"\"}",
         "name": "takesnfc",
         "type": "\"boolean\""
        },
        {
         "metadata": "{\"comment\": \"\"}",
         "name": "takesunionpay",
         "type": "\"boolean\""
        },
        {
         "metadata": "{\"comment\": \"\"}",
         "name": "takesvisa",
         "type": "\"boolean\""
        },
        {
         "metadata": "{\"comment\": \"\"}",
         "name": "trendy",
         "type": "\"string\""
        },
        {
         "metadata": "{\"comment\": \"\"}",
         "name": "tvs",
         "type": "\"boolean\""
        },
        {
         "metadata": "{\"comment\": \"\"}",
         "name": "valetparking",
         "type": "\"boolean\""
        },
        {
         "metadata": "{\"comment\": \"\"}",
         "name": "valueformoney",
         "type": "\"string\""
        },
        {
         "metadata": "{\"comment\": \"\"}",
         "name": "vegandiet",
         "type": "\"string\""
        },
        {
         "metadata": "{\"comment\": \"\"}",
         "name": "vegetariandiet",
         "type": "\"string\""
        },
        {
         "metadata": "{\"comment\": \"\"}",
         "name": "wheelchairaccessible",
         "type": "\"boolean\""
        },
        {
         "metadata": "{\"comment\": \"\"}",
         "name": "wifi",
         "type": "\"string\""
        },
        {
         "metadata": "{\"comment\": \"\"}",
         "name": "wine",
         "type": "\"boolean\""
        },
        {
         "metadata": "{}",
         "name": "census_block_id",
         "type": "\"string\""
        }
       ],
       "type": "table"
      }
     },
     "output_type": "display_data"
    }
   ],
   "source": [
    "%sql \n",
    "select * from workspace.default.places_us_nyc limit 5;"
   ]
  },
  {
   "cell_type": "code",
   "execution_count": 0,
   "metadata": {
    "application/vnd.databricks.v1+cell": {
     "cellMetadata": {
      "byteLimit": 2048000,
      "rowLimit": 10000
     },
     "inputWidgets": {},
     "nuid": "31e220a3-5dda-4e5b-a0c4-e8d06661bc7c",
     "showTitle": false,
     "title": ""
    }
   },
   "outputs": [
    {
     "output_type": "display_data",
     "data": {
      "text/plain": [
       ""
      ]
     },
     "metadata": {
      "application/vnd.databricks.v1+output": {
       "addedWidgets": {},
       "arguments": {},
       "datasetInfos": [],
       "jupyterProps": {
        "ename": "UsageError",
        "evalue": "%%sql is a cell magic, but the cell body is empty."
       },
       "metadata": {
        "errorSummary": "<span class='ansi-red-fg'>UsageError</span>: %%sql is a cell magic, but the cell body is empty."
       },
       "removedWidgets": [],
       "sqlProps": null,
       "stackFrames": [],
       "type": "baseError"
      }
     },
     "output_type": "display_data"
    }
   ],
   "source": [
    "%sql \n",
    "create table `workspace`.`default`.`places_us_nyc_content` as \n",
    "select fsq_id ,\n",
    "name, \n",
    "rating,\n",
    "string (\n",
    "  coalesce(address,\"\") || \" \" ||\n",
    "  coalesce(address_extended,\"\") || \" \" ||\n",
    "  coalesce(locality,\"\") || \" \" ||\n",
    "  coalesce(region,\"\")  || \" \" ||\n",
    "  coalesce(postcode,\"\") || \" \" ||\n",
    "  coalesce(price,\"\") || \" \" || \n",
    "  coalesce(replace(replace (string(neighborhood), \"]\",\"\"),\"[\",\"\"),\"\") || \" \" ||\n",
    "  coalesce(replace(replace (string(fsq_category_labels), \"]\",\"\"),\"[\",\"\"),\"\")  \n",
    ") fsq_content\n",
    "from `foursquare_places_free_new_york_city_sample`.`quickstart_schema`.`places_us_nyc` limit 10\n"
   ]
  },
  {
   "cell_type": "code",
   "execution_count": 0,
   "metadata": {
    "application/vnd.databricks.v1+cell": {
     "cellMetadata": {
      "byteLimit": 2048000,
      "implicitDf": true,
      "rowLimit": 10000
     },
     "inputWidgets": {},
     "nuid": "69987564-3405-4b34-8309-67d00cf188d2",
     "showTitle": false,
     "title": ""
    }
   },
   "outputs": [
    {
     "output_type": "display_data",
     "data": {
      "text/html": [
       "<style scoped>\n",
       "  .table-result-container {\n",
       "    max-height: 300px;\n",
       "    overflow: auto;\n",
       "  }\n",
       "  table, th, td {\n",
       "    border: 1px solid black;\n",
       "    border-collapse: collapse;\n",
       "  }\n",
       "  th, td {\n",
       "    padding: 5px;\n",
       "  }\n",
       "  th {\n",
       "    text-align: left;\n",
       "  }\n",
       "</style><div class='table-result-container'><table class='table-result'><thead style='background-color: white'><tr><th>fsq_id</th><th>name</th><th>rating</th><th>fsq_content</th></tr></thead><tbody><tr><td>559c39d7498e9b3ebf80af2f</td><td>Intexdesign</td><td>null</td><td>252 W 38th St  New York NY 10018  Garment District, Midtown, Midtown South, Midtown West, Theatre District Retail, Textiles Store</td></tr><tr><td>d13291417888410f586e1d4b</td><td>Pan AM Equities</td><td>null</td><td>65 4th Ave Frnt 1 New York NY 10003  Bowery, Downtown, East Village, NoHo Business and Professional Services, Real Estate Service, Real Estate Agency</td></tr><tr><td>4a7e76f620224f68c14062bf</td><td>Fragments Showroom</td><td>null</td><td>997 Madison Ave # 1 New York NY 10075  Upper East Side, Uptown Retail, Fashion Retail, Jewelry Store</td></tr><tr><td>5a2079ff23472477f540ad59</td><td>Skillshare HQ</td><td>null</td><td>407 Broome St  New York NY 10013  Chinatown, Downtown, Little Italy, Lower Manhattan, Nolita, Soho Community and Government, Education</td></tr><tr><td>a8e0597c623b417683907a9b</td><td>Metropolitan Community Investment Partners</td><td>null</td><td>9 E 45th St  New York NY 10017  Midtown, Midtown South, Midtown West, Murray Hill, Tenderloin, Theatre District Business and Professional Services, Computer Repair Service</td></tr></tbody></table></div>"
      ]
     },
     "metadata": {
      "application/vnd.databricks.v1+output": {
       "addedWidgets": {},
       "aggData": [],
       "aggError": "",
       "aggOverflow": false,
       "aggSchema": [],
       "aggSeriesLimitReached": false,
       "aggType": "",
       "arguments": {},
       "columnCustomDisplayInfos": {},
       "data": [
        [
         "559c39d7498e9b3ebf80af2f",
         "Intexdesign",
         null,
         "252 W 38th St  New York NY 10018  Garment District, Midtown, Midtown South, Midtown West, Theatre District Retail, Textiles Store"
        ],
        [
         "d13291417888410f586e1d4b",
         "Pan AM Equities",
         null,
         "65 4th Ave Frnt 1 New York NY 10003  Bowery, Downtown, East Village, NoHo Business and Professional Services, Real Estate Service, Real Estate Agency"
        ],
        [
         "4a7e76f620224f68c14062bf",
         "Fragments Showroom",
         null,
         "997 Madison Ave # 1 New York NY 10075  Upper East Side, Uptown Retail, Fashion Retail, Jewelry Store"
        ],
        [
         "5a2079ff23472477f540ad59",
         "Skillshare HQ",
         null,
         "407 Broome St  New York NY 10013  Chinatown, Downtown, Little Italy, Lower Manhattan, Nolita, Soho Community and Government, Education"
        ],
        [
         "a8e0597c623b417683907a9b",
         "Metropolitan Community Investment Partners",
         null,
         "9 E 45th St  New York NY 10017  Midtown, Midtown South, Midtown West, Murray Hill, Tenderloin, Theatre District Business and Professional Services, Computer Repair Service"
        ]
       ],
       "datasetInfos": [
        {
         "name": "_sqldf",
         "schema": {
          "fields": [
           {
            "metadata": {
             "comment": ""
            },
            "name": "fsq_id",
            "nullable": true,
            "type": "string"
           },
           {
            "metadata": {
             "comment": ""
            },
            "name": "name",
            "nullable": true,
            "type": "string"
           },
           {
            "metadata": {
             "comment": ""
            },
            "name": "rating",
            "nullable": true,
            "type": "double"
           },
           {
            "metadata": {},
            "name": "fsq_content",
            "nullable": true,
            "type": "string"
           }
          ],
          "type": "struct"
         },
         "tableIdentifier": null,
         "typeStr": "pyspark.sql.connect.dataframe.DataFrame"
        }
       ],
       "dbfsResultPath": null,
       "isJsonSchema": true,
       "metadata": {
        "dataframeName": "_sqldf",
        "executionCount": 12
       },
       "overflow": false,
       "plotOptions": {
        "customPlotOptions": {},
        "displayType": "table",
        "pivotAggregation": null,
        "pivotColumns": null,
        "xColumns": null,
        "yColumns": null
       },
       "removedWidgets": [],
       "schema": [
        {
         "metadata": "{\"comment\": \"\"}",
         "name": "fsq_id",
         "type": "\"string\""
        },
        {
         "metadata": "{\"comment\": \"\"}",
         "name": "name",
         "type": "\"string\""
        },
        {
         "metadata": "{\"comment\": \"\"}",
         "name": "rating",
         "type": "\"double\""
        },
        {
         "metadata": "{}",
         "name": "fsq_content",
         "type": "\"string\""
        }
       ],
       "type": "table"
      }
     },
     "output_type": "display_data"
    }
   ],
   "source": [
    "%sql \n",
    "select * from default.places_us_nyc_content limit 5;"
   ]
  },
  {
   "cell_type": "markdown",
   "metadata": {
    "application/vnd.databricks.v1+cell": {
     "cellMetadata": {},
     "inputWidgets": {},
     "nuid": "8d409b95-c6ca-461b-8f9a-8ce0b282e16e",
     "showTitle": false,
     "title": ""
    }
   },
   "source": [
    "\n",
    "*This is foundational table, in the context of SLS Creation, refers to a core data table that serves as the basis for various data operations and analyses. It is typically created at the early stages of a project to establish a solid foundation for subsequent activities.*"
   ]
  },
  {
   "cell_type": "markdown",
   "metadata": {
    "application/vnd.databricks.v1+cell": {
     "cellMetadata": {
      "byteLimit": 2048000,
      "rowLimit": 10000
     },
     "inputWidgets": {},
     "nuid": "798317ed-39f4-40e5-abbe-2e7be2fc01ef",
     "showTitle": false,
     "title": ""
    }
   },
   "source": [
    "##### Considered Sample Volume\n",
    "*Given the limitation in computational resources, we have opted to utilize a sample dataset for demonstrating the functionality and viability of our working prototype.*"
   ]
  },
  {
   "cell_type": "markdown",
   "metadata": {
    "application/vnd.databricks.v1+cell": {
     "cellMetadata": {
      "byteLimit": 2048000,
      "implicitDf": true,
      "rowLimit": 10000
     },
     "inputWidgets": {},
     "nuid": "5ccfbce6-c2ad-48ff-bbdb-cfdbfb93c3a5",
     "showTitle": false,
     "title": ""
    }
   },
   "source": [
    "```create table workspace.default.places_us_nyc_content_sample_5K as select * from workspace.default.places_us_nyc_content limit 5000;```"
   ]
  },
  {
   "cell_type": "markdown",
   "metadata": {
    "application/vnd.databricks.v1+cell": {
     "cellMetadata": {},
     "inputWidgets": {},
     "nuid": "084a24f1-3b52-4d07-9927-e33c36920312",
     "showTitle": false,
     "title": ""
    }
   },
   "source": [
    "##### Added Delta properties. \n",
    "*When creating a table for Vector Index creation, certain properties are necessary to ensure the effectiveness and efficiency of the indexing process. These properties define the characteristics of the table and its columns, allowing for optimized vector indexing. Some important table properties for Vector Index creation include:*\n",
    "\n",
    "```ALTER TABLE `workspace`.`default`.`places_us_nyc_content_sample_5K` SET TBLPROPERTIES (delta.enableChangeDataFeed = true)```"
   ]
  },
  {
   "cell_type": "markdown",
   "metadata": {
    "application/vnd.databricks.v1+cell": {
     "cellMetadata": {},
     "inputWidgets": {},
     "nuid": "2f351610-98c4-4811-a553-72b7e3a7ffd3",
     "showTitle": false,
     "title": ""
    }
   },
   "source": [
    "##### Create Vearch serach endpoint \n",
    "*vectordb-ep*"
   ]
  },
  {
   "cell_type": "markdown",
   "metadata": {
    "application/vnd.databricks.v1+cell": {
     "cellMetadata": {},
     "inputWidgets": {},
     "nuid": "54580436-1eb7-4fb9-a20c-ebda124f2139",
     "showTitle": false,
     "title": ""
    }
   },
   "source": [
    "##### Create Vearch serach Index \n",
    "*sample_content_ind*"
   ]
  },
  {
   "cell_type": "markdown",
   "metadata": {
    "application/vnd.databricks.v1+cell": {
     "cellMetadata": {},
     "inputWidgets": {},
     "nuid": "900aac07-9756-43e3-b081-118750d76b31",
     "showTitle": false,
     "title": ""
    }
   },
   "source": [
    "####  install the required libraries "
   ]
  },
  {
   "cell_type": "code",
   "execution_count": 0,
   "metadata": {
    "application/vnd.databricks.v1+cell": {
     "cellMetadata": {
      "byteLimit": 2048000,
      "rowLimit": 10000
     },
     "inputWidgets": {},
     "nuid": "0f7a4bed-bc48-4a8a-8eb2-2066366e0a12",
     "showTitle": false,
     "title": ""
    }
   },
   "outputs": [
    {
     "output_type": "stream",
     "name": "stdout",
     "output_type": "stream",
     "text": [
      "\u001B[43mNote: you may need to restart the kernel using %restart_python or dbutils.library.restartPython() to use updated packages.\u001B[0m\nCollecting mlflow==2.10.1\n  Downloading mlflow-2.10.1-py3-none-any.whl (19.5 MB)\n     ━━━━━━━━━━━━━━━━━━━━━━━━━━━━━━━━━━━━━━━━ 19.5/19.5 MB 45.6 MB/s eta 0:00:00\nCollecting lxml==4.9.3\n  Downloading lxml-4.9.3-cp310-cp310-manylinux_2_28_x86_64.whl (7.9 MB)\n     ━━━━━━━━━━━━━━━━━━━━━━━━━━━━━━━━━━━━━━━━ 7.9/7.9 MB 71.7 MB/s eta 0:00:00\nCollecting transformers==4.30.2\n  Downloading transformers-4.30.2-py3-none-any.whl (7.2 MB)\n     ━━━━━━━━━━━━━━━━━━━━━━━━━━━━━━━━━━━━━━━━ 7.2/7.2 MB 108.7 MB/s eta 0:00:00\nCollecting langchain==0.1.5\n  Downloading langchain-0.1.5-py3-none-any.whl (806 kB)\n     ━━━━━━━━━━━━━━━━━━━━━━━━━━━━━━━━━━━━━━ 806.7/806.7 kB 65.5 MB/s eta 0:00:00\nCollecting databricks-vectorsearch==0.22\n  Downloading databricks_vectorsearch-0.22-py3-none-any.whl (8.5 kB)\nCollecting markdown<4,>=3.3\n  Downloading Markdown-3.6-py3-none-any.whl (105 kB)\n     ━━━━━━━━━━━━━━━━━━━━━━━━━━━━━━━━━━━━━━ 105.4/105.4 kB 18.5 MB/s eta 0:00:00\nCollecting cloudpickle<4\n  Downloading cloudpickle-3.0.0-py3-none-any.whl (20 kB)\nRequirement already satisfied: entrypoints<1 in /databricks/python3/lib/python3.10/site-packages (from mlflow==2.10.1) (0.4)\nRequirement already satisfied: packaging<24 in /databricks/python3/lib/python3.10/site-packages (from mlflow==2.10.1) (23.2)\nCollecting gunicorn<22\n  Downloading gunicorn-21.2.0-py3-none-any.whl (80 kB)\n     ━━━━━━━━━━━━━━━━━━━━━━━━━━━━━━━━━━━━━━━━ 80.2/80.2 kB 15.5 MB/s eta 0:00:00\nRequirement already satisfied: Jinja2<4,>=2.11 in /databricks/python3/lib/python3.10/site-packages (from mlflow==2.10.1) (3.1.2)\nRequirement already satisfied: pandas<3 in /databricks/python3/lib/python3.10/site-packages (from mlflow==2.10.1) (1.5.3)\nRequirement already satisfied: importlib-metadata!=4.7.0,<8,>=3.7.0 in /usr/lib/python3/dist-packages (from mlflow==2.10.1) (4.6.4)\nCollecting sqlalchemy<3,>=1.4.0\n  Downloading SQLAlchemy-2.0.30-cp310-cp310-manylinux_2_17_x86_64.manylinux2014_x86_64.whl (3.1 MB)\n     ━━━━━━━━━━━━━━━━━━━━━━━━━━━━━━━━━━━━━━━━ 3.1/3.1 MB 89.8 MB/s eta 0:00:00\nCollecting Flask<4\n  Downloading flask-3.0.3-py3-none-any.whl (101 kB)\n     ━━━━━━━━━━━━━━━━━━━━━━━━━━━━━━━━━━━━━━ 101.7/101.7 kB 16.7 MB/s eta 0:00:00\nRequirement already satisfied: scikit-learn<2 in /databricks/python3/lib/python3.10/site-packages (from mlflow==2.10.1) (1.1.1)\nCollecting querystring-parser<2\n  Downloading querystring_parser-1.2.4-py2.py3-none-any.whl (7.9 kB)\nCollecting databricks-cli<1,>=0.8.7\n  Downloading databricks_cli-0.18.0-py2.py3-none-any.whl (150 kB)\n     ━━━━━━━━━━━━━━━━━━━━━━━━━━━━━━━━━━━━━━ 150.3/150.3 kB 25.5 MB/s eta 0:00:00\nCollecting sqlparse<1,>=0.4.0\n  Downloading sqlparse-0.5.0-py3-none-any.whl (43 kB)\n     ━━━━━━━━━━━━━━━━━━━━━━━━━━━━━━━━━━━━━━━━ 44.0/44.0 kB 8.3 MB/s eta 0:00:00\nRequirement already satisfied: click<9,>=7.0 in /databricks/python3/lib/python3.10/site-packages (from mlflow==2.10.1) (8.0.4)\nCollecting alembic!=1.10.0,<2\n  Downloading alembic-1.13.1-py3-none-any.whl (233 kB)\n     ━━━━━━━━━━━━━━━━━━━━━━━━━━━━━━━━━━━━━━ 233.4/233.4 kB 38.8 MB/s eta 0:00:00\nRequirement already satisfied: scipy<2 in /databricks/python3/lib/python3.10/site-packages (from mlflow==2.10.1) (1.10.0)\nRequirement already satisfied: matplotlib<4 in /databricks/python3/lib/python3.10/site-packages (from mlflow==2.10.1) (3.7.0)\nCollecting docker<8,>=4.0.0\n  Downloading docker-7.1.0-py3-none-any.whl (147 kB)\n     ━━━━━━━━━━━━━━━━━━━━━━━━━━━━━━━━━━━━━━ 147.8/147.8 kB 22.9 MB/s eta 0:00:00\nRequirement already satisfied: pyarrow<16,>=4.0.0 in /databricks/python3/lib/python3.10/site-packages (from mlflow==2.10.1) (8.0.0)\nCollecting pyyaml<7,>=5.1\n  Downloading PyYAML-6.0.1-cp310-cp310-manylinux_2_17_x86_64.manylinux2014_x86_64.whl (705 kB)\n     ━━━━━━━━━━━━━━━━━━━━━━━━━━━━━━━━━━━━━━ 705.5/705.5 kB 69.5 MB/s eta 0:00:00\nRequirement already satisfied: pytz<2024 in /databricks/python3/lib/python3.10/site-packages (from mlflow==2.10.1) (2022.7)\nCollecting gitpython<4,>=2.1.0\n  Downloading GitPython-3.1.43-py3-none-any.whl (207 kB)\n     ━━━━━━━━━━━━━━━━━━━━━━━━━━━━━━━━━━━━━━ 207.3/207.3 kB 35.8 MB/s eta 0:00:00\nRequirement already satisfied: protobuf<5,>=3.12.0 in /databricks/python3/lib/python3.10/site-packages (from mlflow==2.10.1) (4.25.3)\nRequirement already satisfied: requests<3,>=2.17.3 in /databricks/python3/lib/python3.10/site-packages (from mlflow==2.10.1) (2.28.1)\nRequirement already satisfied: numpy<2 in /databricks/python3/lib/python3.10/site-packages (from mlflow==2.10.1) (1.23.5)\nCollecting tqdm>=4.27\n  Downloading tqdm-4.66.4-py3-none-any.whl (78 kB)\n     ━━━━━━━━━━━━━━━━━━━━━━━━━━━━━━━━━━━━━━━━ 78.3/78.3 kB 16.0 MB/s eta 0:00:00\nRequirement already satisfied: filelock in /usr/local/lib/python3.10/dist-packages (from transformers==4.30.2) (3.14.0)\nCollecting huggingface-hub<1.0,>=0.14.1\n  Downloading huggingface_hub-0.23.3-py3-none-any.whl (401 kB)\n     ━━━━━━━━━━━━━━━━━━━━━━━━━━━━━━━━━━━━━━ 401.7/401.7 kB 51.4 MB/s eta 0:00:00\nCollecting regex!=2019.12.17\n  Downloading regex-2024.5.15-cp310-cp310-manylinux_2_17_x86_64.manylinux2014_x86_64.whl (775 kB)\n     ━━━━━━━━━━━━━━━━━━━━━━━━━━━━━━━━━━━━━━ 775.1/775.1 kB 71.1 MB/s eta 0:00:00\nCollecting safetensors>=0.3.1\n  Downloading safetensors-0.4.3-cp310-cp310-manylinux_2_17_x86_64.manylinux2014_x86_64.whl (1.2 MB)\n     ━━━━━━━━━━━━━━━━━━━━━━━━━━━━━━━━━━━━━━━━ 1.2/1.2 MB 89.6 MB/s eta 0:00:00\nCollecting tokenizers!=0.11.3,<0.14,>=0.11.1\n  Downloading tokenizers-0.13.3-cp310-cp310-manylinux_2_17_x86_64.manylinux2014_x86_64.whl (7.8 MB)\n     ━━━━━━━━━━━━━━━━━━━━━━━━━━━━━━━━━━━━━━━━ 7.8/7.8 MB 108.2 MB/s eta 0:00:00\nCollecting async-timeout<5.0.0,>=4.0.0\n  Downloading async_timeout-4.0.3-py3-none-any.whl (5.7 kB)\nRequirement already satisfied: tenacity<9.0.0,>=8.1.0 in /databricks/python3/lib/python3.10/site-packages (from langchain==0.1.5) (8.1.0)\nCollecting jsonpatch<2.0,>=1.33\n  Downloading jsonpatch-1.33-py2.py3-none-any.whl (12 kB)\nCollecting aiohttp<4.0.0,>=3.8.3\n  Downloading aiohttp-3.9.5-cp310-cp310-manylinux_2_17_x86_64.manylinux2014_x86_64.whl (1.2 MB)\n     ━━━━━━━━━━━━━━━━━━━━━━━━━━━━━━━━━━━━━━━━ 1.2/1.2 MB 104.8 MB/s eta 0:00:00\nRequirement already satisfied: pydantic<3,>=1 in /databricks/python3/lib/python3.10/site-packages (from langchain==0.1.5) (1.10.6)\nCollecting langsmith<0.1,>=0.0.83\n  Downloading langsmith-0.0.92-py3-none-any.whl (56 kB)\n     ━━━━━━━━━━━━━━━━━━━━━━━━━━━━━━━━━━━━━━━━ 56.5/56.5 kB 9.9 MB/s eta 0:00:00\nCollecting langchain-core<0.2,>=0.1.16\n  Downloading langchain_core-0.1.52-py3-none-any.whl (302 kB)\n     ━━━━━━━━━━━━━━━━━━━━━━━━━━━━━━━━━━━━━━ 302.9/302.9 kB 36.2 MB/s eta 0:00:00\nCollecting langchain-community<0.1,>=0.0.17\n  Downloading langchain_community-0.0.38-py3-none-any.whl (2.0 MB)\n     ━━━━━━━━━━━━━━━━━━━━━━━━━━━━━━━━━━━━━━━━ 2.0/2.0 MB 104.3 MB/s eta 0:00:00\nCollecting dataclasses-json<0.7,>=0.5.7\n  Downloading dataclasses_json-0.6.7-py3-none-any.whl (28 kB)\nCollecting mlflow-skinny<3,>=2.4.0\n  Downloading mlflow_skinny-2.13.2-py3-none-any.whl (5.3 MB)\n     ━━━━━━━━━━━━━━━━━━━━━━━━━━━━━━━━━━━━━━━━ 5.3/5.3 MB 110.9 MB/s eta 0:00:00\nCollecting yarl<2.0,>=1.0\n  Downloading yarl-1.9.4-cp310-cp310-manylinux_2_17_x86_64.manylinux2014_x86_64.whl (301 kB)\n     ━━━━━━━━━━━━━━━━━━━━━━━━━━━━━━━━━━━━━━ 301.6/301.6 kB 33.5 MB/s eta 0:00:00\nCollecting aiosignal>=1.1.2\n  Downloading aiosignal-1.3.1-py3-none-any.whl (7.6 kB)\nCollecting frozenlist>=1.1.1\n  Downloading frozenlist-1.4.1-cp310-cp310-manylinux_2_5_x86_64.manylinux1_x86_64.manylinux_2_17_x86_64.manylinux2014_x86_64.whl (239 kB)\n     ━━━━━━━━━━━━━━━━━━━━━━━━━━━━━━━━━━━━━━ 239.5/239.5 kB 30.8 MB/s eta 0:00:00\nCollecting multidict<7.0,>=4.5\n  Downloading multidict-6.0.5-cp310-cp310-manylinux_2_17_x86_64.manylinux2014_x86_64.whl (124 kB)\n     ━━━━━━━━━━━━━━━━━━━━━━━━━━━━━━━━━━━━━━ 124.3/124.3 kB 21.5 MB/s eta 0:00:00\nRequirement already satisfied: attrs>=17.3.0 in /databricks/python3/lib/python3.10/site-packages (from aiohttp<4.0.0,>=3.8.3->langchain==0.1.5) (22.1.0)\nCollecting Mako\n  Downloading Mako-1.3.5-py3-none-any.whl (78 kB)\n     ━━━━━━━━━━━━━━━━━━━━━━━━━━━━━━━━━━━━━━━━ 78.6/78.6 kB 12.4 MB/s eta 0:00:00\nRequirement already satisfied: typing-extensions>=4 in /databricks/python3/lib/python3.10/site-packages (from alembic!=1.10.0,<2->mlflow==2.10.1) (4.4.0)\nRequirement already satisfied: urllib3<3,>=1.26.7 in /databricks/python3/lib/python3.10/site-packages (from databricks-cli<1,>=0.8.7->mlflow==2.10.1) (1.26.14)\nCollecting tabulate>=0.7.7\n  Downloading tabulate-0.9.0-py3-none-any.whl (35 kB)\nRequirement already satisfied: oauthlib>=3.1.0 in /usr/lib/python3/dist-packages (from databricks-cli<1,>=0.8.7->mlflow==2.10.1) (3.2.0)\nRequirement already satisfied: six>=1.10.0 in /usr/lib/python3/dist-packages (from databricks-cli<1,>=0.8.7->mlflow==2.10.1) (1.16.0)\nRequirement already satisfied: pyjwt>=1.7.0 in /usr/lib/python3/dist-packages (from databricks-cli<1,>=0.8.7->mlflow==2.10.1) (2.3.0)\nCollecting marshmallow<4.0.0,>=3.18.0\n  Downloading marshmallow-3.21.3-py3-none-any.whl (49 kB)\n     ━━━━━━━━━━━━━━━━━━━━━━━━━━━━━━━━━━━━━━━━ 49.2/49.2 kB 6.0 MB/s eta 0:00:00\nCollecting typing-inspect<1,>=0.4.0\n  Downloading typing_inspect-0.9.0-py3-none-any.whl (8.8 kB)\nCollecting blinker>=1.6.2\n  Downloading blinker-1.8.2-py3-none-any.whl (9.5 kB)\nCollecting itsdangerous>=2.1.2\n  Downloading itsdangerous-2.2.0-py3-none-any.whl (16 kB)\nCollecting Werkzeug>=3.0.0\n  Downloading werkzeug-3.0.3-py3-none-any.whl (227 kB)\n     ━━━━━━━━━━━━━━━━━━━━━━━━━━━━━━━━━━━━━━ 227.3/227.3 kB 30.9 MB/s eta 0:00:00\nCollecting click<9,>=7.0\n  Downloading click-8.1.7-py3-none-any.whl (97 kB)\n     ━━━━━━━━━━━━━━━━━━━━━━━━━━━━━━━━━━━━━━━━ 97.9/97.9 kB 19.5 MB/s eta 0:00:00\nCollecting gitdb<5,>=4.0.1\n  Downloading gitdb-4.0.11-py3-none-any.whl (62 kB)\n     ━━━━━━━━━━━━━━━━━━━━━━━━━━━━━━━━━━━━━━━━ 62.7/62.7 kB 10.3 MB/s eta 0:00:00\nCollecting fsspec>=2023.5.0\n  Downloading fsspec-2024.6.0-py3-none-any.whl (176 kB)\n     ━━━━━━━━━━━━━━━━━━━━━━━━━━━━━━━━━━━━━━ 176.9/176.9 kB 24.1 MB/s eta 0:00:00\nRequirement already satisfied: MarkupSafe>=2.0 in /databricks/python3/lib/python3.10/site-packages (from Jinja2<4,>=2.11->mlflow==2.10.1) (2.1.1)\nCollecting jsonpointer>=1.9\n  Downloading jsonpointer-3.0.0-py2.py3-none-any.whl (7.6 kB)\nCollecting langchain-community<0.1,>=0.0.17\n  Downloading langchain_community-0.0.37-py3-none-any.whl (2.0 MB)\n     ━━━━━━━━━━━━━━━━━━━━━━━━━━━━━━━━━━━━━━━━ 2.0/2.0 MB 101.8 MB/s eta 0:00:00\n  Downloading langchain_community-0.0.36-py3-none-any.whl (2.0 MB)\n     ━━━━━━━━━━━━━━━━━━━━━━━━━━━━━━━━━━━━━━━━ 2.0/2.0 MB 89.2 MB/s eta 0:00:00\n  Downloading langchain_community-0.0.35-py3-none-any.whl (2.0 MB)\n     ━━━━━━━━━━━━━━━━━━━━━━━━━━━━━━━━━━━━━━━━ 2.0/2.0 MB 71.0 MB/s eta 0:00:00\n  Downloading langchain_community-0.0.34-py3-none-any.whl (1.9 MB)\n     ━━━━━━━━━━━━━━━━━━━━━━━━━━━━━━━━━━━━━━━━ 1.9/1.9 MB 79.9 MB/s eta 0:00:00\n  Downloading langchain_community-0.0.33-py3-none-any.whl (1.9 MB)\n     ━━━━━━━━━━━━━━━━━━━━━━━━━━━━━━━━━━━━━━━━ 1.9/1.9 MB 66.3 MB/s eta 0:00:00\n  Downloading langchain_community-0.0.32-py3-none-any.whl (1.9 MB)\n     ━━━━━━━━━━━━━━━━━━━━━━━━━━━━━━━━━━━━━━━━ 1.9/1.9 MB 60.3 MB/s eta 0:00:00\n  Downloading langchain_community-0.0.31-py3-none-any.whl (1.9 MB)\n     ━━━━━━━━━━━━━━━━━━━━━━━━━━━━━━━━━━━━━━━━ 1.9/1.9 MB 49.8 MB/s eta 0:00:00\n  Downloading langchain_community-0.0.30-py3-none-any.whl (1.9 MB)\n     ━━━━━━━━━━━━━━━━━━━━━━━━━━━━━━━━━━━━━━━━ 1.9/1.9 MB 54.7 MB/s eta 0:00:00\n  Downloading langchain_community-0.0.29-py3-none-any.whl (1.8 MB)\n     ━━━━━━━━━━━━━━━━━━━━━━━━━━━━━━━━━━━━━━━━ 1.8/1.8 MB 55.6 MB/s eta 0:00:00\n  Downloading langchain_community-0.0.28-py3-none-any.whl (1.8 MB)\n     ━━━━━━━━━━━━━━━━━━━━━━━━━━━━━━━━━━━━━━━━ 1.8/1.8 MB 53.1 MB/s eta 0:00:00\n  Downloading langchain_community-0.0.27-py3-none-any.whl (1.8 MB)\n     ━━━━━━━━━━━━━━━━━━━━━━━━━━━━━━━━━━━━━━━━ 1.8/1.8 MB 42.7 MB/s eta 0:00:00\n  Downloading langchain_community-0.0.26-py3-none-any.whl (1.8 MB)\n     ━━━━━━━━━━━━━━━━━━━━━━━━━━━━━━━━━━━━━━━━ 1.8/1.8 MB 57.0 MB/s eta 0:00:00\n  Downloading langchain_community-0.0.25-py3-none-any.whl (1.8 MB)\n     ━━━━━━━━━━━━━━━━━━━━━━━━━━━━━━━━━━━━━━━━ 1.8/1.8 MB 57.6 MB/s eta 0:00:00\n  Downloading langchain_community-0.0.24-py3-none-any.whl (1.7 MB)\n     ━━━━━━━━━━━━━━━━━━━━━━━━━━━━━━━━━━━━━━━━ 1.7/1.7 MB 47.1 MB/s eta 0:00:00\n  Downloading langchain_community-0.0.23-py3-none-any.whl (1.7 MB)\n     ━━━━━━━━━━━━━━━━━━━━━━━━━━━━━━━━━━━━━━━━ 1.7/1.7 MB 58.9 MB/s eta 0:00:00\n  Downloading langchain_community-0.0.22-py3-none-any.whl (1.7 MB)\n     ━━━━━━━━━━━━━━━━━━━━━━━━━━━━━━━━━━━━━━━━ 1.7/1.7 MB 49.9 MB/s eta 0:00:00\n  Downloading langchain_community-0.0.21-py3-none-any.whl (1.7 MB)\n     ━━━━━━━━━━━━━━━━━━━━━━━━━━━━━━━━━━━━━━━━ 1.7/1.7 MB 49.0 MB/s eta 0:00:00\n  Downloading langchain_community-0.0.20-py3-none-any.whl (1.7 MB)\n     ━━━━━━━━━━━━━━━━━━━━━━━━━━━━━━━━━━━━━━━━ 1.7/1.7 MB 58.8 MB/s eta 0:00:00\nCollecting langchain-core<0.2,>=0.1.16\n  Downloading langchain_core-0.1.51-py3-none-any.whl (302 kB)\n     ━━━━━━━━━━━━━━━━━━━━━━━━━━━━━━━━━━━━━━ 302.9/302.9 kB 32.9 MB/s eta 0:00:00\n  Downloading langchain_core-0.1.50-py3-none-any.whl (302 kB)\n     ━━━━━━━━━━━━━━━━━━━━━━━━━━━━━━━━━━━━━━ 302.8/302.8 kB 33.9 MB/s eta 0:00:00\n  Downloading langchain_core-0.1.49-py3-none-any.whl (303 kB)\n     ━━━━━━━━━━━━━━━━━━━━━━━━━━━━━━━━━━━━━━ 303.0/303.0 kB 32.0 MB/s eta 0:00:00\n  Downloading langchain_core-0.1.48-py3-none-any.whl (302 kB)\n     ━━━━━━━━━━━━━━━━━━━━━━━━━━━━━━━━━━━━━━ 302.9/302.9 kB 33.0 MB/s eta 0:00:00\n  Downloading langchain_core-0.1.47-py3-none-any.whl (302 kB)\n     ━━━━━━━━━━━━━━━━━━━━━━━━━━━━━━━━━━━━━━ 302.2/302.2 kB 33.4 MB/s eta 0:00:00\n  Downloading langchain_core-0.1.46-py3-none-any.whl (299 kB)\n     ━━━━━━━━━━━━━━━━━━━━━━━━━━━━━━━━━━━━━━ 299.3/299.3 kB 40.6 MB/s eta 0:00:00\n  Downloading langchain_core-0.1.45-py3-none-any.whl (291 kB)\n     ━━━━━━━━━━━━━━━━━━━━━━━━━━━━━━━━━━━━━━ 291.3/291.3 kB 33.8 MB/s eta 0:00:00\n  Downloading langchain_core-0.1.44-py3-none-any.whl (290 kB)\n     ━━━━━━━━━━━━━━━━━━━━━━━━━━━━━━━━━━━━━━ 290.2/290.2 kB 33.2 MB/s eta 0:00:00\n  Downloading langchain_core-0.1.43-py3-none-any.whl (289 kB)\n     ━━━━━━━━━━━━━━━━━━━━━━━━━━━━━━━━━━━━━━ 289.1/289.1 kB 34.7 MB/s eta 0:00:00\n  Downloading langchain_core-0.1.42-py3-none-any.whl (287 kB)\n     ━━━━━━━━━━━━━━━━━━━━━━━━━━━━━━━━━━━━━━ 287.5/287.5 kB 36.1 MB/s eta 0:00:00\n  Downloading langchain_core-0.1.41-py3-none-any.whl (278 kB)\n     ━━━━━━━━━━━━━━━━━━━━━━━━━━━━━━━━━━━━━━ 278.4/278.4 kB 31.2 MB/s eta 0:00:00\n  Downloading langchain_core-0.1.40-py3-none-any.whl (276 kB)\n     ━━━━━━━━━━━━━━━━━━━━━━━━━━━━━━━━━━━━━━ 276.8/276.8 kB 31.0 MB/s eta 0:00:00\n  Downloading langchain_core-0.1.39-py3-none-any.whl (276 kB)\n     ━━━━━━━━━━━━━━━━━━━━━━━━━━━━━━━━━━━━━━ 276.6/276.6 kB 28.7 MB/s eta 0:00:00\n  Downloading langchain_core-0.1.38-py3-none-any.whl (279 kB)\n     ━━━━━━━━━━━━━━━━━━━━━━━━━━━━━━━━━━━━━━ 279.2/279.2 kB 33.2 MB/s eta 0:00:00\n  Downloading langchain_core-0.1.37-py3-none-any.whl (274 kB)\n     ━━━━━━━━━━━━━━━━━━━━━━━━━━━━━━━━━━━━━━ 274.6/274.6 kB 16.2 MB/s eta 0:00:00\n  Downloading langchain_core-0.1.36-py3-none-any.whl (273 kB)\n     ━━━━━━━━━━━━━━━━━━━━━━━━━━━━━━━━━━━━━━ 273.9/273.9 kB 38.5 MB/s eta 0:00:00\n  Downloading langchain_core-0.1.35-py3-none-any.whl (273 kB)\n     ━━━━━━━━━━━━━━━━━━━━━━━━━━━━━━━━━━━━━━ 273.0/273.0 kB 36.8 MB/s eta 0:00:00\n  Downloading langchain_core-0.1.34-py3-none-any.whl (271 kB)\n     ━━━━━━━━━━━━━━━━━━━━━━━━━━━━━━━━━━━━━━ 271.6/271.6 kB 17.2 MB/s eta 0:00:00\n  Downloading langchain_core-0.1.33-py3-none-any.whl (269 kB)\n     ━━━━━━━━━━━━━━━━━━━━━━━━━━━━━━━━━━━━━━ 269.1/269.1 kB 32.4 MB/s eta 0:00:00\n  Downloading langchain_core-0.1.32-py3-none-any.whl (260 kB)\n     ━━━━━━━━━━━━━━━━━━━━━━━━━━━━━━━━━━━━━━ 260.9/260.9 kB 41.8 MB/s eta 0:00:00\n  Downloading langchain_core-0.1.31-py3-none-any.whl (258 kB)\n     ━━━━━━━━━━━━━━━━━━━━━━━━━━━━━━━━━━━━━━ 258.8/258.8 kB 42.1 MB/s eta 0:00:00\n  Downloading langchain_core-0.1.30-py3-none-any.whl (256 kB)\n     ━━━━━━━━━━━━━━━━━━━━━━━━━━━━━━━━━━━━━━ 256.9/256.9 kB 43.6 MB/s eta 0:00:00\n  Downloading langchain_core-0.1.29-py3-none-any.whl (252 kB)\n     ━━━━━━━━━━━━━━━━━━━━━━━━━━━━━━━━━━━━━━ 252.6/252.6 kB 37.0 MB/s eta 0:00:00\n  Downloading langchain_core-0.1.28-py3-none-any.whl (252 kB)\n     ━━━━━━━━━━━━━━━━━━━━━━━━━━━━━━━━━━━━━━ 252.4/252.4 kB 23.9 MB/s eta 0:00:00\n  Downloading langchain_core-0.1.27-py3-none-any.whl (250 kB)\n     ━━━━━━━━━━━━━━━━━━━━━━━━━━━━━━━━━━━━━━ 250.8/250.8 kB 29.1 MB/s eta 0:00:00\n  Downloading langchain_core-0.1.26-py3-none-any.whl (246 kB)\n     ━━━━━━━━━━━━━━━━━━━━━━━━━━━━━━━━━━━━━━ 246.4/246.4 kB 32.2 MB/s eta 0:00:00\n  Downloading langchain_core-0.1.25-py3-none-any.whl (242 kB)\n     ━━━━━━━━━━━━━━━━━━━━━━━━━━━━━━━━━━━━━━ 242.1/242.1 kB 40.2 MB/s eta 0:00:00\n  Downloading langchain_core-0.1.24-py3-none-any.whl (241 kB)\n     ━━━━━━━━━━━━━━━━━━━━━━━━━━━━━━━━━━━━━━ 241.3/241.3 kB 35.0 MB/s eta 0:00:00\n  Downloading langchain_core-0.1.23-py3-none-any.whl (241 kB)\n     ━━━━━━━━━━━━━━━━━━━━━━━━━━━━━━━━━━━━━━ 241.2/241.2 kB 39.7 MB/s eta 0:00:00\nCollecting langsmith<0.1,>=0.0.83\n  Downloading langsmith-0.0.87-py3-none-any.whl (55 kB)\n     ━━━━━━━━━━━━━━━━━━━━━━━━━━━━━━━━━━━━━━━━ 55.4/55.4 kB 10.5 MB/s eta 0:00:00\nRequirement already satisfied: anyio<5,>=3 in /databricks/python3/lib/python3.10/site-packages (from langchain-core<0.2,>=0.1.16->langchain==0.1.5) (3.5.0)\nRequirement already satisfied: pyparsing>=2.3.1 in /databricks/python3/lib/python3.10/site-packages (from matplotlib<4->mlflow==2.10.1) (3.0.9)\nRequirement already satisfied: pillow>=6.2.0 in /databricks/python3/lib/python3.10/site-packages (from matplotlib<4->mlflow==2.10.1) (9.4.0)\nRequirement already satisfied: cycler>=0.10 in /databricks/python3/lib/python3.10/site-packages (from matplotlib<4->mlflow==2.10.1) (0.11.0)\nRequirement already satisfied: python-dateutil>=2.7 in /databricks/python3/lib/python3.10/site-packages (from matplotlib<4->mlflow==2.10.1) (2.8.2)\nRequirement already satisfied: fonttools>=4.22.0 in /databricks/python3/lib/python3.10/site-packages (from matplotlib<4->mlflow==2.10.1) (4.25.0)\nRequirement already satisfied: kiwisolver>=1.0.1 in /databricks/python3/lib/python3.10/site-packages (from matplotlib<4->mlflow==2.10.1) (1.4.4)\nRequirement already satisfied: contourpy>=1.0.1 in /databricks/python3/lib/python3.10/site-packages (from matplotlib<4->mlflow==2.10.1) (1.0.5)\nCollecting opentelemetry-api<3,>=1.0.0\n  Downloading opentelemetry_api-1.25.0-py3-none-any.whl (59 kB)\n     ━━━━━━━━━━━━━━━━━━━━━━━━━━━━━━━━━━━━━━━━ 59.9/59.9 kB 9.2 MB/s eta 0:00:00\nRequirement already satisfied: cachetools<6,>=5.0.0 in /databricks/python3/lib/python3.10/site-packages (from mlflow-skinny<3,>=2.4.0->databricks-vectorsearch==0.22) (5.3.2)\nCollecting opentelemetry-sdk<3,>=1.0.0\n  Downloading opentelemetry_sdk-1.25.0-py3-none-any.whl (107 kB)\n     ━━━━━━━━━━━━━━━━━━━━━━━━━━━━━━━━━━━━━━ 107.0/107.0 kB 17.7 MB/s eta 0:00:00\nRequirement already satisfied: idna<4,>=2.5 in /databricks/python3/lib/python3.10/site-packages (from requests<3,>=2.17.3->mlflow==2.10.1) (3.4)\nRequirement already satisfied: certifi>=2017.4.17 in /databricks/python3/lib/python3.10/site-packages (from requests<3,>=2.17.3->mlflow==2.10.1) (2022.12.7)\nRequirement already satisfied: charset-normalizer<3,>=2 in /databricks/python3/lib/python3.10/site-packages (from requests<3,>=2.17.3->mlflow==2.10.1) (2.0.4)\nRequirement already satisfied: threadpoolctl>=2.0.0 in /databricks/python3/lib/python3.10/site-packages (from scikit-learn<2->mlflow==2.10.1) (2.2.0)\nRequirement already satisfied: joblib>=1.0.0 in /databricks/python3/lib/python3.10/site-packages (from scikit-learn<2->mlflow==2.10.1) (1.2.0)\nCollecting greenlet!=0.4.17\n  Downloading greenlet-3.0.3-cp310-cp310-manylinux_2_24_x86_64.manylinux_2_28_x86_64.whl (616 kB)\n     ━━━━━━━━━━━━━━━━━━━━━━━━━━━━━━━━━━━━━━ 616.0/616.0 kB 41.5 MB/s eta 0:00:00\nCollecting typing-extensions>=4\n  Downloading typing_extensions-4.12.2-py3-none-any.whl (37 kB)\nRequirement already satisfied: sniffio>=1.1 in /databricks/python3/lib/python3.10/site-packages (from anyio<5,>=3->langchain-core<0.2,>=0.1.16->langchain==0.1.5) (1.2.0)\nCollecting smmap<6,>=3.0.1\n  Downloading smmap-5.0.1-py3-none-any.whl (24 kB)\nCollecting importlib-metadata!=4.7.0,<8,>=3.7.0\n  Downloading importlib_metadata-7.1.0-py3-none-any.whl (24 kB)\nCollecting deprecated>=1.2.6\n  Downloading Deprecated-1.2.14-py2.py3-none-any.whl (9.6 kB)\nRequirement already satisfied: zipp>=0.5 in /usr/lib/python3/dist-packages (from importlib-metadata!=4.7.0,<8,>=3.7.0->mlflow==2.10.1) (1.0.0)\nCollecting opentelemetry-semantic-conventions==0.46b0\n  Downloading opentelemetry_semantic_conventions-0.46b0-py3-none-any.whl (130 kB)\n     ━━━━━━━━━━━━━━━━━━━━━━━━━━━━━━━━━━━━━━ 130.5/130.5 kB 24.7 MB/s eta 0:00:00\nRequirement already satisfied: mypy-extensions>=0.3.0 in /databricks/python3/lib/python3.10/site-packages (from typing-inspect<1,>=0.4.0->dataclasses-json<0.7,>=0.5.7->langchain==0.1.5) (0.4.3)\nCollecting wrapt<2,>=1.10\n  Downloading wrapt-1.16.0-cp310-cp310-manylinux_2_5_x86_64.manylinux1_x86_64.manylinux_2_17_x86_64.manylinux2014_x86_64.whl (80 kB)\n     ━━━━━━━━━━━━━━━━━━━━━━━━━━━━━━━━━━━━━━━━ 80.3/80.3 kB 14.2 MB/s eta 0:00:00\nInstalling collected packages: tokenizers, wrapt, Werkzeug, typing-extensions, tqdm, tabulate, sqlparse, smmap, safetensors, regex, querystring-parser, pyyaml, multidict, marshmallow, markdown, Mako, lxml, jsonpointer, itsdangerous, importlib-metadata, gunicorn, greenlet, fsspec, frozenlist, cloudpickle, click, blinker, async-timeout, yarl, typing-inspect, sqlalchemy, jsonpatch, huggingface-hub, gitdb, Flask, docker, deprecated, databricks-cli, aiosignal, transformers, opentelemetry-api, langsmith, gitpython, dataclasses-json, alembic, aiohttp, opentelemetry-semantic-conventions, mlflow, langchain-core, opentelemetry-sdk, langchain-community, mlflow-skinny, langchain, databricks-vectorsearch\n  Attempting uninstall: typing-extensions\n    Found existing installation: typing_extensions 4.4.0\n    Not uninstalling typing-extensions at /databricks/python3/lib/python3.10/site-packages, outside environment /local_disk0/.ephemeral_nfs/envs/pythonEnv-b1711397-76c4-4822-8172-f83fb39917da\n    Can't uninstall 'typing_extensions'. No files were found to uninstall.\n  Attempting uninstall: lxml\n    Found existing installation: lxml 4.9.1\n    Not uninstalling lxml at /databricks/python3/lib/python3.10/site-packages, outside environment /local_disk0/.ephemeral_nfs/envs/pythonEnv-b1711397-76c4-4822-8172-f83fb39917da\n    Can't uninstall 'lxml'. No files were found to uninstall.\n  Attempting uninstall: importlib-metadata\n    Found existing installation: importlib-metadata 4.6.4\n    Not uninstalling importlib-metadata at /usr/lib/python3/dist-packages, outside environment /local_disk0/.ephemeral_nfs/envs/pythonEnv-b1711397-76c4-4822-8172-f83fb39917da\n    Can't uninstall 'importlib-metadata'. No files were found to uninstall.\n  Attempting uninstall: click\n    Found existing installation: click 8.0.4\n    Not uninstalling click at /databricks/python3/lib/python3.10/site-packages, outside environment /local_disk0/.ephemeral_nfs/envs/pythonEnv-b1711397-76c4-4822-8172-f83fb39917da\n    Can't uninstall 'click'. No files were found to uninstall.\n  Attempting uninstall: blinker\n    Found existing installation: blinker 1.4\n    Not uninstalling blinker at /usr/lib/python3/dist-packages, outside environment /local_disk0/.ephemeral_nfs/envs/pythonEnv-b1711397-76c4-4822-8172-f83fb39917da\n    Can't uninstall 'blinker'. No files were found to uninstall.\nSuccessfully installed Flask-3.0.3 Mako-1.3.5 Werkzeug-3.0.3 aiohttp-3.9.5 aiosignal-1.3.1 alembic-1.13.1 async-timeout-4.0.3 blinker-1.8.2 click-8.1.7 cloudpickle-3.0.0 databricks-cli-0.18.0 databricks-vectorsearch-0.22 dataclasses-json-0.6.7 deprecated-1.2.14 docker-7.1.0 frozenlist-1.4.1 fsspec-2024.6.0 gitdb-4.0.11 gitpython-3.1.43 greenlet-3.0.3 gunicorn-21.2.0 huggingface-hub-0.23.3 importlib-metadata-7.1.0 itsdangerous-2.2.0 jsonpatch-1.33 jsonpointer-3.0.0 langchain-0.1.5 langchain-community-0.0.20 langchain-core-0.1.23 langsmith-0.0.87 lxml-4.9.3 markdown-3.6 marshmallow-3.21.3 mlflow-2.10.1 mlflow-skinny-2.13.2 multidict-6.0.5 opentelemetry-api-1.25.0 opentelemetry-sdk-1.25.0 opentelemetry-semantic-conventions-0.46b0 pyyaml-6.0.1 querystring-parser-1.2.4 regex-2024.5.15 safetensors-0.4.3 smmap-5.0.1 sqlalchemy-2.0.30 sqlparse-0.5.0 tabulate-0.9.0 tokenizers-0.13.3 tqdm-4.66.4 transformers-4.30.2 typing-extensions-4.12.2 typing-inspect-0.9.0 wrapt-1.16.0 yarl-1.9.4\n\u001B[43mNote: you may need to restart the kernel using %restart_python or dbutils.library.restartPython() to use updated packages.\u001B[0m\n"
     ]
    }
   ],
   "source": [
    "%pip install mlflow==2.10.1 lxml==4.9.3 transformers==4.30.2 langchain==0.1.5 databricks-vectorsearch==0.22\n",
    "dbutils.library.restartPython()"
   ]
  },
  {
   "cell_type": "code",
   "execution_count": 0,
   "metadata": {
    "application/vnd.databricks.v1+cell": {
     "cellMetadata": {
      "byteLimit": 2048000,
      "rowLimit": 10000
     },
     "inputWidgets": {},
     "nuid": "55be5472-bb49-4d84-9a4a-90e80d646c24",
     "showTitle": false,
     "title": ""
    }
   },
   "outputs": [
    {
     "output_type": "execute_result",
     "data": {
      "text/plain": [
       "[['50bba642e4b03a9fdb698d43',\n",
       "  'Le Grande Caffe',\n",
       "  None,\n",
       "  '1078 1st Ave  New York NY 10022 Moderate Midtown, Sutton Place, Turtle Bay Dining and Drinking, Restaurant, Pizzeria, Dining and Drinking, Restaurant, American Restaurant, Dining and Drinking, Restaurant, Italian Restaurant',\n",
       "  0.6210756],\n",
       " ['061610be2f6e42db7792d095',\n",
       "  'Allora Rock Center',\n",
       "  None,\n",
       "  '25 W 51st St  New York NY 10019  Midtown, Midtown West, San Juan Hill, Theatre District, West Side Dining and Drinking, Bar, Karaoke Bar, Dining and Drinking, Restaurant, Italian Restaurant',\n",
       "  0.6187435],\n",
       " ['77054d9541b54d43214d8a10',\n",
       "  'Amore Trattoria',\n",
       "  None,\n",
       "  '125 W 26th St  New York NY 10001  Chelsea, Flatiron, Flatiron District, Garment District, Midtown, Midtown South Dining and Drinking, Restaurant, Italian Restaurant',\n",
       "  0.6170077],\n",
       " ['4d4e0cc51a2d721e586e9e1d',\n",
       "  \"New York Sal's Pizza\",\n",
       "  6.41,\n",
       "  \"696 10th Ave  New York NY 10019 Cheap Clinton, Hell's Kitchen, Midtown, Midtown West, Theatre District, West Side Dining and Drinking, Restaurant, Pizzeria\",\n",
       "  0.6024782],\n",
       " ['4b0e0b45f964a520545423e3',\n",
       "  \"Morton's The Steakhouse\",\n",
       "  7.71,\n",
       "  '551 5th Ave  New York NY 10176 Expensive Midtown, Midtown South, Midtown West, Murray Hill, Tenderloin, Theatre District Dining and Drinking, Restaurant, American Restaurant, Dining and Drinking, Restaurant, Steakhouse',\n",
       "  0.6000401]]"
      ]
     },
     "execution_count": 79,
     "metadata": {},
     "output_type": "execute_result"
    }
   ],
   "source": [
    "import mlflow.deployments\n",
    "deploy_client = mlflow.deployments.get_deploy_client(\"databricks\")\n",
    "\n",
    "from databricks.vector_search.client import VectorSearchClient\n",
    "vsc = VectorSearchClient(disable_notice=True)\n",
    "\n",
    "question = \"List italian restaurants in midtown\"\n",
    "\n",
    "results = vsc.get_index(\"vectordb-ep\", \"workspace.default.sample_content_ind\").similarity_search(\n",
    "  query_text=question,\n",
    "  columns=[\"fsq_id\",\"name\",\"rating\",\"fsq_content\"],\n",
    "  num_results=5)\n",
    "docs = results.get('result', {}).get('data_array', [])\n",
    "docs"
   ]
  },
  {
   "cell_type": "code",
   "execution_count": 0,
   "metadata": {
    "application/vnd.databricks.v1+cell": {
     "cellMetadata": {
      "byteLimit": 2048000,
      "rowLimit": 10000
     },
     "inputWidgets": {},
     "nuid": "540a3f49-6621-4bc0-af99-017643102cb4",
     "showTitle": false,
     "title": ""
    }
   },
   "outputs": [],
   "source": [
    "import pandas as pd\n",
    "results=pd.DataFrame(docs)\n",
    "results.columns=[\"fsq_id\",\"name\",\"rating\",\"fsq_content\",'match_score']\n",
    "results=results.fillna(0)\n"
   ]
  },
  {
   "cell_type": "markdown",
   "metadata": {
    "application/vnd.databricks.v1+cell": {
     "cellMetadata": {},
     "inputWidgets": {},
     "nuid": "01aee415-9e0d-4ed3-983e-46abc13afd72",
     "showTitle": false,
     "title": ""
    }
   },
   "source": [
    "##### Rank Results by Vector Match"
   ]
  },
  {
   "cell_type": "code",
   "execution_count": 0,
   "metadata": {
    "application/vnd.databricks.v1+cell": {
     "cellMetadata": {
      "byteLimit": 2048000,
      "rowLimit": 10000
     },
     "inputWidgets": {},
     "nuid": "85db51d1-1211-48b2-9888-569feea705d0",
     "showTitle": false,
     "title": ""
    }
   },
   "outputs": [
    {
     "output_type": "execute_result",
     "data": {
      "text/html": [
       "<div>\n",
       "<style scoped>\n",
       "    .dataframe tbody tr th:only-of-type {\n",
       "        vertical-align: middle;\n",
       "    }\n",
       "\n",
       "    .dataframe tbody tr th {\n",
       "        vertical-align: top;\n",
       "    }\n",
       "\n",
       "    .dataframe thead th {\n",
       "        text-align: right;\n",
       "    }\n",
       "</style>\n",
       "<table border=\"1\" class=\"dataframe\">\n",
       "  <thead>\n",
       "    <tr style=\"text-align: right;\">\n",
       "      <th></th>\n",
       "      <th>fsq_id</th>\n",
       "      <th>name</th>\n",
       "      <th>rating</th>\n",
       "      <th>fsq_content</th>\n",
       "      <th>match_score</th>\n",
       "    </tr>\n",
       "  </thead>\n",
       "  <tbody>\n",
       "    <tr>\n",
       "      <th>0</th>\n",
       "      <td>50bba642e4b03a9fdb698d43</td>\n",
       "      <td>Le Grande Caffe</td>\n",
       "      <td>0.00</td>\n",
       "      <td>1078 1st Ave  New York NY 10022 Moderate Midto...</td>\n",
       "      <td>0.621076</td>\n",
       "    </tr>\n",
       "    <tr>\n",
       "      <th>1</th>\n",
       "      <td>061610be2f6e42db7792d095</td>\n",
       "      <td>Allora Rock Center</td>\n",
       "      <td>0.00</td>\n",
       "      <td>25 W 51st St  New York NY 10019  Midtown, Midt...</td>\n",
       "      <td>0.618744</td>\n",
       "    </tr>\n",
       "    <tr>\n",
       "      <th>2</th>\n",
       "      <td>77054d9541b54d43214d8a10</td>\n",
       "      <td>Amore Trattoria</td>\n",
       "      <td>0.00</td>\n",
       "      <td>125 W 26th St  New York NY 10001  Chelsea, Fla...</td>\n",
       "      <td>0.617008</td>\n",
       "    </tr>\n",
       "    <tr>\n",
       "      <th>3</th>\n",
       "      <td>4d4e0cc51a2d721e586e9e1d</td>\n",
       "      <td>New York Sal's Pizza</td>\n",
       "      <td>6.41</td>\n",
       "      <td>696 10th Ave  New York NY 10019 Cheap Clinton,...</td>\n",
       "      <td>0.602478</td>\n",
       "    </tr>\n",
       "    <tr>\n",
       "      <th>4</th>\n",
       "      <td>4b0e0b45f964a520545423e3</td>\n",
       "      <td>Morton's The Steakhouse</td>\n",
       "      <td>7.71</td>\n",
       "      <td>551 5th Ave  New York NY 10176 Expensive Midto...</td>\n",
       "      <td>0.600040</td>\n",
       "    </tr>\n",
       "  </tbody>\n",
       "</table>\n",
       "</div>"
      ],
      "text/plain": [
       "                     fsq_id  ... match_score\n",
       "0  50bba642e4b03a9fdb698d43  ...    0.621076\n",
       "1  061610be2f6e42db7792d095  ...    0.618744\n",
       "2  77054d9541b54d43214d8a10  ...    0.617008\n",
       "3  4d4e0cc51a2d721e586e9e1d  ...    0.602478\n",
       "4  4b0e0b45f964a520545423e3  ...    0.600040\n",
       "\n",
       "[5 rows x 5 columns]"
      ]
     },
     "execution_count": 87,
     "metadata": {},
     "output_type": "execute_result"
    }
   ],
   "source": [
    "results.sort_values('match_score',ascending=False)"
   ]
  },
  {
   "cell_type": "markdown",
   "metadata": {
    "application/vnd.databricks.v1+cell": {
     "cellMetadata": {},
     "inputWidgets": {},
     "nuid": "4520a464-27d2-419b-8dcc-3dacc84a9c9c",
     "showTitle": false,
     "title": ""
    }
   },
   "source": [
    "##### Rank Results by Rating"
   ]
  },
  {
   "cell_type": "code",
   "execution_count": 0,
   "metadata": {
    "application/vnd.databricks.v1+cell": {
     "cellMetadata": {
      "byteLimit": 2048000,
      "rowLimit": 10000
     },
     "inputWidgets": {},
     "nuid": "53f40abd-62d7-4c90-99d9-291c4375a42c",
     "showTitle": false,
     "title": ""
    }
   },
   "outputs": [
    {
     "output_type": "execute_result",
     "data": {
      "text/html": [
       "<div>\n",
       "<style scoped>\n",
       "    .dataframe tbody tr th:only-of-type {\n",
       "        vertical-align: middle;\n",
       "    }\n",
       "\n",
       "    .dataframe tbody tr th {\n",
       "        vertical-align: top;\n",
       "    }\n",
       "\n",
       "    .dataframe thead th {\n",
       "        text-align: right;\n",
       "    }\n",
       "</style>\n",
       "<table border=\"1\" class=\"dataframe\">\n",
       "  <thead>\n",
       "    <tr style=\"text-align: right;\">\n",
       "      <th></th>\n",
       "      <th>fsq_id</th>\n",
       "      <th>name</th>\n",
       "      <th>rating</th>\n",
       "      <th>fsq_content</th>\n",
       "      <th>match_score</th>\n",
       "    </tr>\n",
       "  </thead>\n",
       "  <tbody>\n",
       "    <tr>\n",
       "      <th>4</th>\n",
       "      <td>4b0e0b45f964a520545423e3</td>\n",
       "      <td>Morton's The Steakhouse</td>\n",
       "      <td>7.71</td>\n",
       "      <td>551 5th Ave  New York NY 10176 Expensive Midto...</td>\n",
       "      <td>0.600040</td>\n",
       "    </tr>\n",
       "    <tr>\n",
       "      <th>3</th>\n",
       "      <td>4d4e0cc51a2d721e586e9e1d</td>\n",
       "      <td>New York Sal's Pizza</td>\n",
       "      <td>6.41</td>\n",
       "      <td>696 10th Ave  New York NY 10019 Cheap Clinton,...</td>\n",
       "      <td>0.602478</td>\n",
       "    </tr>\n",
       "    <tr>\n",
       "      <th>0</th>\n",
       "      <td>50bba642e4b03a9fdb698d43</td>\n",
       "      <td>Le Grande Caffe</td>\n",
       "      <td>0.00</td>\n",
       "      <td>1078 1st Ave  New York NY 10022 Moderate Midto...</td>\n",
       "      <td>0.621076</td>\n",
       "    </tr>\n",
       "    <tr>\n",
       "      <th>1</th>\n",
       "      <td>061610be2f6e42db7792d095</td>\n",
       "      <td>Allora Rock Center</td>\n",
       "      <td>0.00</td>\n",
       "      <td>25 W 51st St  New York NY 10019  Midtown, Midt...</td>\n",
       "      <td>0.618744</td>\n",
       "    </tr>\n",
       "    <tr>\n",
       "      <th>2</th>\n",
       "      <td>77054d9541b54d43214d8a10</td>\n",
       "      <td>Amore Trattoria</td>\n",
       "      <td>0.00</td>\n",
       "      <td>125 W 26th St  New York NY 10001  Chelsea, Fla...</td>\n",
       "      <td>0.617008</td>\n",
       "    </tr>\n",
       "  </tbody>\n",
       "</table>\n",
       "</div>"
      ],
      "text/plain": [
       "                     fsq_id  ... match_score\n",
       "4  4b0e0b45f964a520545423e3  ...    0.600040\n",
       "3  4d4e0cc51a2d721e586e9e1d  ...    0.602478\n",
       "0  50bba642e4b03a9fdb698d43  ...    0.621076\n",
       "1  061610be2f6e42db7792d095  ...    0.618744\n",
       "2  77054d9541b54d43214d8a10  ...    0.617008\n",
       "\n",
       "[5 rows x 5 columns]"
      ]
     },
     "execution_count": 89,
     "metadata": {},
     "output_type": "execute_result"
    }
   ],
   "source": [
    "results.sort_values('rating',ascending=False)"
   ]
  },
  {
   "cell_type": "code",
   "execution_count": 0,
   "metadata": {
    "application/vnd.databricks.v1+cell": {
     "cellMetadata": {},
     "inputWidgets": {},
     "nuid": "619050d0-ec49-4934-b35a-13a03d035c55",
     "showTitle": false,
     "title": ""
    }
   },
   "outputs": [],
   "source": []
  }
 ],
 "metadata": {
  "application/vnd.databricks.v1+notebook": {
   "dashboards": [],
   "environmentMetadata": null,
   "language": "python",
   "notebookMetadata": {
    "mostRecentlyExecutedCommandWithImplicitDF": {
     "commandId": 2905703854074271,
     "dataframes": [
      "_sqldf"
     ]
    },
    "pythonIndentUnit": 4
   },
   "notebookName": "SLS_Engine",
   "widgets": {}
  }
 },
 "nbformat": 4,
 "nbformat_minor": 0
}
